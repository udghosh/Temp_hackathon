{
  "nbformat": 4,
  "nbformat_minor": 0,
  "metadata": {
    "colab": {
      "name": "Aurora RoundHacks_Temp.ipynb",
      "provenance": [],
      "mount_file_id": "1CqnYxaR3qRfZ-ggYIV6ON22DjEc8trFQ",
      "authorship_tag": "ABX9TyM77iPHm5FLDl8BBFV+3JmW",
      "include_colab_link": true
    },
    "kernelspec": {
      "display_name": "Python 3",
      "name": "python3"
    }
  },
  "cells": [
    {
      "cell_type": "markdown",
      "metadata": {
        "id": "view-in-github",
        "colab_type": "text"
      },
      "source": [
        "<a href=\"https://colab.research.google.com/github/udghosh/Temp_hackathon/blob/main/Aurora_RoundHacks_Temp.ipynb\" target=\"_parent\"><img src=\"https://colab.research.google.com/assets/colab-badge.svg\" alt=\"Open In Colab\"/></a>"
      ]
    },
    {
      "cell_type": "code",
      "metadata": {
        "id": "aD_NPHteGhRS",
        "colab": {
          "base_uri": "https://localhost:8080/"
        },
        "outputId": "0955fd41-3c38-4333-acf7-cc6e8e8bf55f"
      },
      "source": [
        "# Mounting The Drive\n",
        "from google.colab import drive\n",
        "drive.mount('/content/drive')"
      ],
      "execution_count": null,
      "outputs": [
        {
          "output_type": "stream",
          "text": [
            "Drive already mounted at /content/drive; to attempt to forcibly remount, call drive.mount(\"/content/drive\", force_remount=True).\n"
          ],
          "name": "stdout"
        }
      ]
    },
    {
      "cell_type": "code",
      "metadata": {
        "id": "cAW3ZhjWH-Q1"
      },
      "source": [
        "# Importing Essential Libraries And Functions\n",
        "import pandas as pd\n",
        "import numpy as np\n",
        "from sklearn.model_selection import train_test_split\n",
        "from sklearn.feature_selection import VarianceThreshold\n",
        "import seaborn as sns\n",
        "import matplotlib.pyplot as plt\n",
        "from sklearn.preprocessing import LabelEncoder\n",
        "\n",
        "from sklearn.linear_model import LinearRegression\n",
        "from sklearn.svm import SVR\n",
        "from sklearn.tree import DecisionTreeRegressor\n",
        "from sklearn.ensemble import RandomForestRegressor,RandomForestClassifier\n",
        "import xgboost as xgb\n",
        "from sklearn.metrics import mean_squared_error\n",
        "from sklearn.metrics import r2_score"
      ],
      "execution_count": null,
      "outputs": []
    },
    {
      "cell_type": "code",
      "metadata": {
        "id": "JaVUgCrUH_IE"
      },
      "source": [
        "# importing Warnings To remove Warnings\n",
        "import warnings\n",
        "warnings.filterwarnings('ignore')"
      ],
      "execution_count": null,
      "outputs": []
    },
    {
      "cell_type": "code",
      "metadata": {
        "id": "5m2v8fjtIBbi",
        "colab": {
          "base_uri": "https://localhost:8080/",
          "height": 202
        },
        "outputId": "46df5204-e5d4-475c-e892-1d5d5e798736"
      },
      "source": [
        "# Reading the CSV file\n",
        "df = pd.read_csv('/content/drive/MyDrive/Aurora_RoundHacks/new_train.csv')\n",
        "df.head()"
      ],
      "execution_count": null,
      "outputs": [
        {
          "output_type": "execute_result",
          "data": {
            "text/html": [
              "<div>\n",
              "<style scoped>\n",
              "    .dataframe tbody tr th:only-of-type {\n",
              "        vertical-align: middle;\n",
              "    }\n",
              "\n",
              "    .dataframe tbody tr th {\n",
              "        vertical-align: top;\n",
              "    }\n",
              "\n",
              "    .dataframe thead th {\n",
              "        text-align: right;\n",
              "    }\n",
              "</style>\n",
              "<table border=\"1\" class=\"dataframe\">\n",
              "  <thead>\n",
              "    <tr style=\"text-align: right;\">\n",
              "      <th></th>\n",
              "      <th>date</th>\n",
              "      <th>temp</th>\n",
              "    </tr>\n",
              "  </thead>\n",
              "  <tbody>\n",
              "    <tr>\n",
              "      <th>0</th>\n",
              "      <td>01-01-1980</td>\n",
              "      <td>4.16</td>\n",
              "    </tr>\n",
              "    <tr>\n",
              "      <th>1</th>\n",
              "      <td>02-01-1980</td>\n",
              "      <td>4.06</td>\n",
              "    </tr>\n",
              "    <tr>\n",
              "      <th>2</th>\n",
              "      <td>03-01-1980</td>\n",
              "      <td>7.12</td>\n",
              "    </tr>\n",
              "    <tr>\n",
              "      <th>3</th>\n",
              "      <td>04-01-1980</td>\n",
              "      <td>9.23</td>\n",
              "    </tr>\n",
              "    <tr>\n",
              "      <th>4</th>\n",
              "      <td>05-01-1980</td>\n",
              "      <td>3.20</td>\n",
              "    </tr>\n",
              "  </tbody>\n",
              "</table>\n",
              "</div>"
            ],
            "text/plain": [
              "         date  temp\n",
              "0  01-01-1980  4.16\n",
              "1  02-01-1980  4.06\n",
              "2  03-01-1980  7.12\n",
              "3  04-01-1980  9.23\n",
              "4  05-01-1980  3.20"
            ]
          },
          "metadata": {
            "tags": []
          },
          "execution_count": 433
        }
      ]
    },
    {
      "cell_type": "code",
      "metadata": {
        "id": "IziQjnryILTw",
        "colab": {
          "base_uri": "https://localhost:8080/"
        },
        "outputId": "682ec05d-3b12-411d-c422-06f1eaf73f47"
      },
      "source": [
        "df.info()"
      ],
      "execution_count": null,
      "outputs": [
        {
          "output_type": "stream",
          "text": [
            "<class 'pandas.core.frame.DataFrame'>\n",
            "RangeIndex: 11323 entries, 0 to 11322\n",
            "Data columns (total 2 columns):\n",
            " #   Column  Non-Null Count  Dtype  \n",
            "---  ------  --------------  -----  \n",
            " 0   date    11323 non-null  object \n",
            " 1   temp    11323 non-null  float64\n",
            "dtypes: float64(1), object(1)\n",
            "memory usage: 177.0+ KB\n"
          ],
          "name": "stdout"
        }
      ]
    },
    {
      "cell_type": "code",
      "metadata": {
        "id": "NSlRG0ToIRWG"
      },
      "source": [
        "df['date'] = pd.to_datetime(df['date'])"
      ],
      "execution_count": null,
      "outputs": []
    },
    {
      "cell_type": "code",
      "metadata": {
        "id": "cROxqaYnIgSd",
        "colab": {
          "base_uri": "https://localhost:8080/"
        },
        "outputId": "0f5c0291-f341-4f5b-db9b-503fdafe7f83"
      },
      "source": [
        "df.info()"
      ],
      "execution_count": null,
      "outputs": [
        {
          "output_type": "stream",
          "text": [
            "<class 'pandas.core.frame.DataFrame'>\n",
            "RangeIndex: 11323 entries, 0 to 11322\n",
            "Data columns (total 2 columns):\n",
            " #   Column  Non-Null Count  Dtype         \n",
            "---  ------  --------------  -----         \n",
            " 0   date    11323 non-null  datetime64[ns]\n",
            " 1   temp    11323 non-null  float64       \n",
            "dtypes: datetime64[ns](1), float64(1)\n",
            "memory usage: 177.0 KB\n"
          ],
          "name": "stdout"
        }
      ]
    },
    {
      "cell_type": "code",
      "metadata": {
        "id": "rzTIgQLnIiiE",
        "colab": {
          "base_uri": "https://localhost:8080/",
          "height": 1582
        },
        "outputId": "e5a96db9-2761-4157-ebb7-d1c837e66b02"
      },
      "source": [
        "# To disable Scrolling\n",
        "\n",
        "from IPython.display import Javascript\n",
        "display(Javascript('''google.colab.output.setIframeHeight(0, true, {maxHeight: 100000})'''))\n",
        "df.head(50)"
      ],
      "execution_count": null,
      "outputs": [
        {
          "output_type": "display_data",
          "data": {
            "application/javascript": [
              "google.colab.output.setIframeHeight(0, true, {maxHeight: 100000})"
            ],
            "text/plain": [
              "<IPython.core.display.Javascript object>"
            ]
          },
          "metadata": {
            "tags": []
          }
        },
        {
          "output_type": "execute_result",
          "data": {
            "text/html": [
              "<div>\n",
              "<style scoped>\n",
              "    .dataframe tbody tr th:only-of-type {\n",
              "        vertical-align: middle;\n",
              "    }\n",
              "\n",
              "    .dataframe tbody tr th {\n",
              "        vertical-align: top;\n",
              "    }\n",
              "\n",
              "    .dataframe thead th {\n",
              "        text-align: right;\n",
              "    }\n",
              "</style>\n",
              "<table border=\"1\" class=\"dataframe\">\n",
              "  <thead>\n",
              "    <tr style=\"text-align: right;\">\n",
              "      <th></th>\n",
              "      <th>date</th>\n",
              "      <th>temp</th>\n",
              "    </tr>\n",
              "  </thead>\n",
              "  <tbody>\n",
              "    <tr>\n",
              "      <th>0</th>\n",
              "      <td>1980-01-01</td>\n",
              "      <td>4.16</td>\n",
              "    </tr>\n",
              "    <tr>\n",
              "      <th>1</th>\n",
              "      <td>1980-02-01</td>\n",
              "      <td>4.06</td>\n",
              "    </tr>\n",
              "    <tr>\n",
              "      <th>2</th>\n",
              "      <td>1980-03-01</td>\n",
              "      <td>7.12</td>\n",
              "    </tr>\n",
              "    <tr>\n",
              "      <th>3</th>\n",
              "      <td>1980-04-01</td>\n",
              "      <td>9.23</td>\n",
              "    </tr>\n",
              "    <tr>\n",
              "      <th>4</th>\n",
              "      <td>1980-05-01</td>\n",
              "      <td>3.20</td>\n",
              "    </tr>\n",
              "    <tr>\n",
              "      <th>5</th>\n",
              "      <td>1980-06-01</td>\n",
              "      <td>7.01</td>\n",
              "    </tr>\n",
              "    <tr>\n",
              "      <th>6</th>\n",
              "      <td>1980-07-01</td>\n",
              "      <td>3.21</td>\n",
              "    </tr>\n",
              "    <tr>\n",
              "      <th>7</th>\n",
              "      <td>1980-08-01</td>\n",
              "      <td>2.03</td>\n",
              "    </tr>\n",
              "    <tr>\n",
              "      <th>8</th>\n",
              "      <td>1980-09-01</td>\n",
              "      <td>4.49</td>\n",
              "    </tr>\n",
              "    <tr>\n",
              "      <th>9</th>\n",
              "      <td>1980-10-01</td>\n",
              "      <td>5.94</td>\n",
              "    </tr>\n",
              "    <tr>\n",
              "      <th>10</th>\n",
              "      <td>1980-11-01</td>\n",
              "      <td>1.55</td>\n",
              "    </tr>\n",
              "    <tr>\n",
              "      <th>11</th>\n",
              "      <td>1980-12-01</td>\n",
              "      <td>1.76</td>\n",
              "    </tr>\n",
              "    <tr>\n",
              "      <th>12</th>\n",
              "      <td>1980-01-13</td>\n",
              "      <td>1.67</td>\n",
              "    </tr>\n",
              "    <tr>\n",
              "      <th>13</th>\n",
              "      <td>1980-01-14</td>\n",
              "      <td>0.44</td>\n",
              "    </tr>\n",
              "    <tr>\n",
              "      <th>14</th>\n",
              "      <td>1980-01-15</td>\n",
              "      <td>2.97</td>\n",
              "    </tr>\n",
              "    <tr>\n",
              "      <th>15</th>\n",
              "      <td>1980-01-16</td>\n",
              "      <td>3.78</td>\n",
              "    </tr>\n",
              "    <tr>\n",
              "      <th>16</th>\n",
              "      <td>1980-01-17</td>\n",
              "      <td>4.19</td>\n",
              "    </tr>\n",
              "    <tr>\n",
              "      <th>17</th>\n",
              "      <td>1980-01-18</td>\n",
              "      <td>2.87</td>\n",
              "    </tr>\n",
              "    <tr>\n",
              "      <th>18</th>\n",
              "      <td>1980-01-19</td>\n",
              "      <td>3.38</td>\n",
              "    </tr>\n",
              "    <tr>\n",
              "      <th>19</th>\n",
              "      <td>1980-01-20</td>\n",
              "      <td>4.23</td>\n",
              "    </tr>\n",
              "    <tr>\n",
              "      <th>20</th>\n",
              "      <td>1980-01-21</td>\n",
              "      <td>2.82</td>\n",
              "    </tr>\n",
              "    <tr>\n",
              "      <th>21</th>\n",
              "      <td>1980-01-22</td>\n",
              "      <td>2.14</td>\n",
              "    </tr>\n",
              "    <tr>\n",
              "      <th>22</th>\n",
              "      <td>1980-01-23</td>\n",
              "      <td>4.10</td>\n",
              "    </tr>\n",
              "    <tr>\n",
              "      <th>23</th>\n",
              "      <td>1980-01-24</td>\n",
              "      <td>3.85</td>\n",
              "    </tr>\n",
              "    <tr>\n",
              "      <th>24</th>\n",
              "      <td>1980-01-25</td>\n",
              "      <td>3.93</td>\n",
              "    </tr>\n",
              "    <tr>\n",
              "      <th>25</th>\n",
              "      <td>1980-01-26</td>\n",
              "      <td>5.51</td>\n",
              "    </tr>\n",
              "    <tr>\n",
              "      <th>26</th>\n",
              "      <td>1980-01-27</td>\n",
              "      <td>7.68</td>\n",
              "    </tr>\n",
              "    <tr>\n",
              "      <th>27</th>\n",
              "      <td>1980-01-28</td>\n",
              "      <td>10.83</td>\n",
              "    </tr>\n",
              "    <tr>\n",
              "      <th>28</th>\n",
              "      <td>1980-01-29</td>\n",
              "      <td>7.92</td>\n",
              "    </tr>\n",
              "    <tr>\n",
              "      <th>29</th>\n",
              "      <td>1980-01-30</td>\n",
              "      <td>6.87</td>\n",
              "    </tr>\n",
              "    <tr>\n",
              "      <th>30</th>\n",
              "      <td>1980-01-31</td>\n",
              "      <td>5.11</td>\n",
              "    </tr>\n",
              "    <tr>\n",
              "      <th>31</th>\n",
              "      <td>1980-01-02</td>\n",
              "      <td>3.55</td>\n",
              "    </tr>\n",
              "    <tr>\n",
              "      <th>32</th>\n",
              "      <td>1980-02-02</td>\n",
              "      <td>4.77</td>\n",
              "    </tr>\n",
              "    <tr>\n",
              "      <th>33</th>\n",
              "      <td>1980-03-02</td>\n",
              "      <td>4.86</td>\n",
              "    </tr>\n",
              "    <tr>\n",
              "      <th>34</th>\n",
              "      <td>1980-04-02</td>\n",
              "      <td>5.26</td>\n",
              "    </tr>\n",
              "    <tr>\n",
              "      <th>35</th>\n",
              "      <td>1980-05-02</td>\n",
              "      <td>2.40</td>\n",
              "    </tr>\n",
              "    <tr>\n",
              "      <th>36</th>\n",
              "      <td>1980-06-02</td>\n",
              "      <td>0.68</td>\n",
              "    </tr>\n",
              "    <tr>\n",
              "      <th>37</th>\n",
              "      <td>1980-07-02</td>\n",
              "      <td>1.41</td>\n",
              "    </tr>\n",
              "    <tr>\n",
              "      <th>38</th>\n",
              "      <td>1980-08-02</td>\n",
              "      <td>2.13</td>\n",
              "    </tr>\n",
              "    <tr>\n",
              "      <th>39</th>\n",
              "      <td>1980-09-02</td>\n",
              "      <td>2.57</td>\n",
              "    </tr>\n",
              "    <tr>\n",
              "      <th>40</th>\n",
              "      <td>1980-10-02</td>\n",
              "      <td>3.54</td>\n",
              "    </tr>\n",
              "    <tr>\n",
              "      <th>41</th>\n",
              "      <td>1980-11-02</td>\n",
              "      <td>2.58</td>\n",
              "    </tr>\n",
              "    <tr>\n",
              "      <th>42</th>\n",
              "      <td>1980-12-02</td>\n",
              "      <td>5.10</td>\n",
              "    </tr>\n",
              "    <tr>\n",
              "      <th>43</th>\n",
              "      <td>1980-02-13</td>\n",
              "      <td>3.10</td>\n",
              "    </tr>\n",
              "    <tr>\n",
              "      <th>44</th>\n",
              "      <td>1980-02-14</td>\n",
              "      <td>2.66</td>\n",
              "    </tr>\n",
              "    <tr>\n",
              "      <th>45</th>\n",
              "      <td>1980-02-15</td>\n",
              "      <td>3.75</td>\n",
              "    </tr>\n",
              "    <tr>\n",
              "      <th>46</th>\n",
              "      <td>1980-02-16</td>\n",
              "      <td>2.05</td>\n",
              "    </tr>\n",
              "    <tr>\n",
              "      <th>47</th>\n",
              "      <td>1980-02-17</td>\n",
              "      <td>2.51</td>\n",
              "    </tr>\n",
              "    <tr>\n",
              "      <th>48</th>\n",
              "      <td>1980-02-18</td>\n",
              "      <td>5.22</td>\n",
              "    </tr>\n",
              "    <tr>\n",
              "      <th>49</th>\n",
              "      <td>1980-02-19</td>\n",
              "      <td>2.23</td>\n",
              "    </tr>\n",
              "  </tbody>\n",
              "</table>\n",
              "</div>"
            ],
            "text/plain": [
              "         date   temp\n",
              "0  1980-01-01   4.16\n",
              "1  1980-02-01   4.06\n",
              "2  1980-03-01   7.12\n",
              "3  1980-04-01   9.23\n",
              "4  1980-05-01   3.20\n",
              "5  1980-06-01   7.01\n",
              "6  1980-07-01   3.21\n",
              "7  1980-08-01   2.03\n",
              "8  1980-09-01   4.49\n",
              "9  1980-10-01   5.94\n",
              "10 1980-11-01   1.55\n",
              "11 1980-12-01   1.76\n",
              "12 1980-01-13   1.67\n",
              "13 1980-01-14   0.44\n",
              "14 1980-01-15   2.97\n",
              "15 1980-01-16   3.78\n",
              "16 1980-01-17   4.19\n",
              "17 1980-01-18   2.87\n",
              "18 1980-01-19   3.38\n",
              "19 1980-01-20   4.23\n",
              "20 1980-01-21   2.82\n",
              "21 1980-01-22   2.14\n",
              "22 1980-01-23   4.10\n",
              "23 1980-01-24   3.85\n",
              "24 1980-01-25   3.93\n",
              "25 1980-01-26   5.51\n",
              "26 1980-01-27   7.68\n",
              "27 1980-01-28  10.83\n",
              "28 1980-01-29   7.92\n",
              "29 1980-01-30   6.87\n",
              "30 1980-01-31   5.11\n",
              "31 1980-01-02   3.55\n",
              "32 1980-02-02   4.77\n",
              "33 1980-03-02   4.86\n",
              "34 1980-04-02   5.26\n",
              "35 1980-05-02   2.40\n",
              "36 1980-06-02   0.68\n",
              "37 1980-07-02   1.41\n",
              "38 1980-08-02   2.13\n",
              "39 1980-09-02   2.57\n",
              "40 1980-10-02   3.54\n",
              "41 1980-11-02   2.58\n",
              "42 1980-12-02   5.10\n",
              "43 1980-02-13   3.10\n",
              "44 1980-02-14   2.66\n",
              "45 1980-02-15   3.75\n",
              "46 1980-02-16   2.05\n",
              "47 1980-02-17   2.51\n",
              "48 1980-02-18   5.22\n",
              "49 1980-02-19   2.23"
            ]
          },
          "metadata": {
            "tags": []
          },
          "execution_count": 437
        }
      ]
    },
    {
      "cell_type": "code",
      "metadata": {
        "id": "gdbx9WB5Iu2K",
        "colab": {
          "base_uri": "https://localhost:8080/"
        },
        "outputId": "661de987-27d6-464d-a75a-0b7bc07c5a1d"
      },
      "source": [
        "df.isnull().sum()"
      ],
      "execution_count": null,
      "outputs": [
        {
          "output_type": "execute_result",
          "data": {
            "text/plain": [
              "date    0\n",
              "temp    0\n",
              "dtype: int64"
            ]
          },
          "metadata": {
            "tags": []
          },
          "execution_count": 438
        }
      ]
    },
    {
      "cell_type": "code",
      "metadata": {
        "id": "iE9UOhaYI7LL",
        "colab": {
          "base_uri": "https://localhost:8080/",
          "height": 387
        },
        "outputId": "0c01d765-b03e-4e24-cf83-0ba5e45afe7c"
      },
      "source": [
        "sns.displot(data=df, x=\"temp\", y=\"date\")"
      ],
      "execution_count": null,
      "outputs": [
        {
          "output_type": "execute_result",
          "data": {
            "text/plain": [
              "<seaborn.axisgrid.FacetGrid at 0x7fd7e010f890>"
            ]
          },
          "metadata": {
            "tags": []
          },
          "execution_count": 439
        },
        {
          "output_type": "display_data",
          "data": {
            "image/png": "[encoded data removed]",
            "text/plain": [
              "<Figure size 360x360 with 1 Axes>"
            ]
          },
          "metadata": {
            "tags": [],
            "needs_background": "light"
          }
        }
      ]
    },
    {
      "cell_type": "code",
      "metadata": {
        "id": "B3_PpqxuJSgg",
        "colab": {
          "base_uri": "https://localhost:8080/",
          "height": 297
        },
        "outputId": "8c5e9ec5-2b6a-408b-ab0c-f0fbbba68077"
      },
      "source": [
        "# Plotting Box plot to Check for Outliers\n",
        "\n",
        "sns.boxplot(df.temp)"
      ],
      "execution_count": null,
      "outputs": [
        {
          "output_type": "execute_result",
          "data": {
            "text/plain": [
              "<matplotlib.axes._subplots.AxesSubplot at 0x7fd7e022c3d0>"
            ]
          },
          "metadata": {
            "tags": []
          },
          "execution_count": 440
        },
        {
          "output_type": "display_data",
          "data": {
            "image/png": "[encoded data removed]",
            "text/plain": [
              "<Figure size 432x288 with 1 Axes>"
            ]
          },
          "metadata": {
            "tags": [],
            "needs_background": "light"
          }
        }
      ]
    },
    {
      "cell_type": "code",
      "metadata": {
        "id": "4-ks1IKkJ0mf"
      },
      "source": [
        "# Creating Features in train from due Date\n",
        "\n",
        "df['date_month'] = df.date.dt.month\n",
        "df['date_quarter'] = df.date.dt.quarter\n",
        "df['date_year'] = df.date.dt.year\n",
        "df['date_day'] = df.date.dt.day"
      ],
      "execution_count": null,
      "outputs": []
    },
    {
      "cell_type": "code",
      "metadata": {
        "id": "Q2IkM7FWLba3",
        "colab": {
          "base_uri": "https://localhost:8080/",
          "height": 662
        },
        "outputId": "4473ff1d-736f-4111-bfb0-6d5b27564458"
      },
      "source": [
        "df.head(20)"
      ],
      "execution_count": null,
      "outputs": [
        {
          "output_type": "execute_result",
          "data": {
            "text/html": [
              "<div>\n",
              "<style scoped>\n",
              "    .dataframe tbody tr th:only-of-type {\n",
              "        vertical-align: middle;\n",
              "    }\n",
              "\n",
              "    .dataframe tbody tr th {\n",
              "        vertical-align: top;\n",
              "    }\n",
              "\n",
              "    .dataframe thead th {\n",
              "        text-align: right;\n",
              "    }\n",
              "</style>\n",
              "<table border=\"1\" class=\"dataframe\">\n",
              "  <thead>\n",
              "    <tr style=\"text-align: right;\">\n",
              "      <th></th>\n",
              "      <th>date</th>\n",
              "      <th>temp</th>\n",
              "      <th>date_month</th>\n",
              "      <th>date_quarter</th>\n",
              "      <th>date_year</th>\n",
              "      <th>date_day</th>\n",
              "    </tr>\n",
              "  </thead>\n",
              "  <tbody>\n",
              "    <tr>\n",
              "      <th>0</th>\n",
              "      <td>1980-01-01</td>\n",
              "      <td>4.16</td>\n",
              "      <td>1</td>\n",
              "      <td>1</td>\n",
              "      <td>1980</td>\n",
              "      <td>1</td>\n",
              "    </tr>\n",
              "    <tr>\n",
              "      <th>1</th>\n",
              "      <td>1980-02-01</td>\n",
              "      <td>4.06</td>\n",
              "      <td>2</td>\n",
              "      <td>1</td>\n",
              "      <td>1980</td>\n",
              "      <td>1</td>\n",
              "    </tr>\n",
              "    <tr>\n",
              "      <th>2</th>\n",
              "      <td>1980-03-01</td>\n",
              "      <td>7.12</td>\n",
              "      <td>3</td>\n",
              "      <td>1</td>\n",
              "      <td>1980</td>\n",
              "      <td>1</td>\n",
              "    </tr>\n",
              "    <tr>\n",
              "      <th>3</th>\n",
              "      <td>1980-04-01</td>\n",
              "      <td>9.23</td>\n",
              "      <td>4</td>\n",
              "      <td>2</td>\n",
              "      <td>1980</td>\n",
              "      <td>1</td>\n",
              "    </tr>\n",
              "    <tr>\n",
              "      <th>4</th>\n",
              "      <td>1980-05-01</td>\n",
              "      <td>3.20</td>\n",
              "      <td>5</td>\n",
              "      <td>2</td>\n",
              "      <td>1980</td>\n",
              "      <td>1</td>\n",
              "    </tr>\n",
              "    <tr>\n",
              "      <th>5</th>\n",
              "      <td>1980-06-01</td>\n",
              "      <td>7.01</td>\n",
              "      <td>6</td>\n",
              "      <td>2</td>\n",
              "      <td>1980</td>\n",
              "      <td>1</td>\n",
              "    </tr>\n",
              "    <tr>\n",
              "      <th>6</th>\n",
              "      <td>1980-07-01</td>\n",
              "      <td>3.21</td>\n",
              "      <td>7</td>\n",
              "      <td>3</td>\n",
              "      <td>1980</td>\n",
              "      <td>1</td>\n",
              "    </tr>\n",
              "    <tr>\n",
              "      <th>7</th>\n",
              "      <td>1980-08-01</td>\n",
              "      <td>2.03</td>\n",
              "      <td>8</td>\n",
              "      <td>3</td>\n",
              "      <td>1980</td>\n",
              "      <td>1</td>\n",
              "    </tr>\n",
              "    <tr>\n",
              "      <th>8</th>\n",
              "      <td>1980-09-01</td>\n",
              "      <td>4.49</td>\n",
              "      <td>9</td>\n",
              "      <td>3</td>\n",
              "      <td>1980</td>\n",
              "      <td>1</td>\n",
              "    </tr>\n",
              "    <tr>\n",
              "      <th>9</th>\n",
              "      <td>1980-10-01</td>\n",
              "      <td>5.94</td>\n",
              "      <td>10</td>\n",
              "      <td>4</td>\n",
              "      <td>1980</td>\n",
              "      <td>1</td>\n",
              "    </tr>\n",
              "    <tr>\n",
              "      <th>10</th>\n",
              "      <td>1980-11-01</td>\n",
              "      <td>1.55</td>\n",
              "      <td>11</td>\n",
              "      <td>4</td>\n",
              "      <td>1980</td>\n",
              "      <td>1</td>\n",
              "    </tr>\n",
              "    <tr>\n",
              "      <th>11</th>\n",
              "      <td>1980-12-01</td>\n",
              "      <td>1.76</td>\n",
              "      <td>12</td>\n",
              "      <td>4</td>\n",
              "      <td>1980</td>\n",
              "      <td>1</td>\n",
              "    </tr>\n",
              "    <tr>\n",
              "      <th>12</th>\n",
              "      <td>1980-01-13</td>\n",
              "      <td>1.67</td>\n",
              "      <td>1</td>\n",
              "      <td>1</td>\n",
              "      <td>1980</td>\n",
              "      <td>13</td>\n",
              "    </tr>\n",
              "    <tr>\n",
              "      <th>13</th>\n",
              "      <td>1980-01-14</td>\n",
              "      <td>0.44</td>\n",
              "      <td>1</td>\n",
              "      <td>1</td>\n",
              "      <td>1980</td>\n",
              "      <td>14</td>\n",
              "    </tr>\n",
              "    <tr>\n",
              "      <th>14</th>\n",
              "      <td>1980-01-15</td>\n",
              "      <td>2.97</td>\n",
              "      <td>1</td>\n",
              "      <td>1</td>\n",
              "      <td>1980</td>\n",
              "      <td>15</td>\n",
              "    </tr>\n",
              "    <tr>\n",
              "      <th>15</th>\n",
              "      <td>1980-01-16</td>\n",
              "      <td>3.78</td>\n",
              "      <td>1</td>\n",
              "      <td>1</td>\n",
              "      <td>1980</td>\n",
              "      <td>16</td>\n",
              "    </tr>\n",
              "    <tr>\n",
              "      <th>16</th>\n",
              "      <td>1980-01-17</td>\n",
              "      <td>4.19</td>\n",
              "      <td>1</td>\n",
              "      <td>1</td>\n",
              "      <td>1980</td>\n",
              "      <td>17</td>\n",
              "    </tr>\n",
              "    <tr>\n",
              "      <th>17</th>\n",
              "      <td>1980-01-18</td>\n",
              "      <td>2.87</td>\n",
              "      <td>1</td>\n",
              "      <td>1</td>\n",
              "      <td>1980</td>\n",
              "      <td>18</td>\n",
              "    </tr>\n",
              "    <tr>\n",
              "      <th>18</th>\n",
              "      <td>1980-01-19</td>\n",
              "      <td>3.38</td>\n",
              "      <td>1</td>\n",
              "      <td>1</td>\n",
              "      <td>1980</td>\n",
              "      <td>19</td>\n",
              "    </tr>\n",
              "    <tr>\n",
              "      <th>19</th>\n",
              "      <td>1980-01-20</td>\n",
              "      <td>4.23</td>\n",
              "      <td>1</td>\n",
              "      <td>1</td>\n",
              "      <td>1980</td>\n",
              "      <td>20</td>\n",
              "    </tr>\n",
              "  </tbody>\n",
              "</table>\n",
              "</div>"
            ],
            "text/plain": [
              "         date  temp  date_month  date_quarter  date_year  date_day\n",
              "0  1980-01-01  4.16           1             1       1980         1\n",
              "1  1980-02-01  4.06           2             1       1980         1\n",
              "2  1980-03-01  7.12           3             1       1980         1\n",
              "3  1980-04-01  9.23           4             2       1980         1\n",
              "4  1980-05-01  3.20           5             2       1980         1\n",
              "5  1980-06-01  7.01           6             2       1980         1\n",
              "6  1980-07-01  3.21           7             3       1980         1\n",
              "7  1980-08-01  2.03           8             3       1980         1\n",
              "8  1980-09-01  4.49           9             3       1980         1\n",
              "9  1980-10-01  5.94          10             4       1980         1\n",
              "10 1980-11-01  1.55          11             4       1980         1\n",
              "11 1980-12-01  1.76          12             4       1980         1\n",
              "12 1980-01-13  1.67           1             1       1980        13\n",
              "13 1980-01-14  0.44           1             1       1980        14\n",
              "14 1980-01-15  2.97           1             1       1980        15\n",
              "15 1980-01-16  3.78           1             1       1980        16\n",
              "16 1980-01-17  4.19           1             1       1980        17\n",
              "17 1980-01-18  2.87           1             1       1980        18\n",
              "18 1980-01-19  3.38           1             1       1980        19\n",
              "19 1980-01-20  4.23           1             1       1980        20"
            ]
          },
          "metadata": {
            "tags": []
          },
          "execution_count": 442
        }
      ]
    },
    {
      "cell_type": "code",
      "metadata": {
        "id": "LIqEwDnXLnKn",
        "colab": {
          "base_uri": "https://localhost:8080/",
          "height": 662
        },
        "outputId": "71661657-b030-441e-dfe2-6d713e1e9690"
      },
      "source": [
        "df.tail(20)"
      ],
      "execution_count": null,
      "outputs": [
        {
          "output_type": "execute_result",
          "data": {
            "text/html": [
              "<div>\n",
              "<style scoped>\n",
              "    .dataframe tbody tr th:only-of-type {\n",
              "        vertical-align: middle;\n",
              "    }\n",
              "\n",
              "    .dataframe tbody tr th {\n",
              "        vertical-align: top;\n",
              "    }\n",
              "\n",
              "    .dataframe thead th {\n",
              "        text-align: right;\n",
              "    }\n",
              "</style>\n",
              "<table border=\"1\" class=\"dataframe\">\n",
              "  <thead>\n",
              "    <tr style=\"text-align: right;\">\n",
              "      <th></th>\n",
              "      <th>date</th>\n",
              "      <th>temp</th>\n",
              "      <th>date_month</th>\n",
              "      <th>date_quarter</th>\n",
              "      <th>date_year</th>\n",
              "      <th>date_day</th>\n",
              "    </tr>\n",
              "  </thead>\n",
              "  <tbody>\n",
              "    <tr>\n",
              "      <th>11303</th>\n",
              "      <td>2010-12-12</td>\n",
              "      <td>10.45</td>\n",
              "      <td>12</td>\n",
              "      <td>4</td>\n",
              "      <td>2010</td>\n",
              "      <td>12</td>\n",
              "    </tr>\n",
              "    <tr>\n",
              "      <th>11304</th>\n",
              "      <td>2010-12-13</td>\n",
              "      <td>8.28</td>\n",
              "      <td>12</td>\n",
              "      <td>4</td>\n",
              "      <td>2010</td>\n",
              "      <td>13</td>\n",
              "    </tr>\n",
              "    <tr>\n",
              "      <th>11305</th>\n",
              "      <td>2010-12-14</td>\n",
              "      <td>11.82</td>\n",
              "      <td>12</td>\n",
              "      <td>4</td>\n",
              "      <td>2010</td>\n",
              "      <td>14</td>\n",
              "    </tr>\n",
              "    <tr>\n",
              "      <th>11306</th>\n",
              "      <td>2010-12-15</td>\n",
              "      <td>7.55</td>\n",
              "      <td>12</td>\n",
              "      <td>4</td>\n",
              "      <td>2010</td>\n",
              "      <td>15</td>\n",
              "    </tr>\n",
              "    <tr>\n",
              "      <th>11307</th>\n",
              "      <td>2010-12-16</td>\n",
              "      <td>4.51</td>\n",
              "      <td>12</td>\n",
              "      <td>4</td>\n",
              "      <td>2010</td>\n",
              "      <td>16</td>\n",
              "    </tr>\n",
              "    <tr>\n",
              "      <th>11308</th>\n",
              "      <td>2010-12-17</td>\n",
              "      <td>6.54</td>\n",
              "      <td>12</td>\n",
              "      <td>4</td>\n",
              "      <td>2010</td>\n",
              "      <td>17</td>\n",
              "    </tr>\n",
              "    <tr>\n",
              "      <th>11309</th>\n",
              "      <td>2010-12-18</td>\n",
              "      <td>6.95</td>\n",
              "      <td>12</td>\n",
              "      <td>4</td>\n",
              "      <td>2010</td>\n",
              "      <td>18</td>\n",
              "    </tr>\n",
              "    <tr>\n",
              "      <th>11310</th>\n",
              "      <td>2010-12-19</td>\n",
              "      <td>6.95</td>\n",
              "      <td>12</td>\n",
              "      <td>4</td>\n",
              "      <td>2010</td>\n",
              "      <td>19</td>\n",
              "    </tr>\n",
              "    <tr>\n",
              "      <th>11311</th>\n",
              "      <td>2010-12-20</td>\n",
              "      <td>9.76</td>\n",
              "      <td>12</td>\n",
              "      <td>4</td>\n",
              "      <td>2010</td>\n",
              "      <td>20</td>\n",
              "    </tr>\n",
              "    <tr>\n",
              "      <th>11312</th>\n",
              "      <td>2010-12-21</td>\n",
              "      <td>11.42</td>\n",
              "      <td>12</td>\n",
              "      <td>4</td>\n",
              "      <td>2010</td>\n",
              "      <td>21</td>\n",
              "    </tr>\n",
              "    <tr>\n",
              "      <th>11313</th>\n",
              "      <td>2010-12-22</td>\n",
              "      <td>12.49</td>\n",
              "      <td>12</td>\n",
              "      <td>4</td>\n",
              "      <td>2010</td>\n",
              "      <td>22</td>\n",
              "    </tr>\n",
              "    <tr>\n",
              "      <th>11314</th>\n",
              "      <td>2010-12-23</td>\n",
              "      <td>9.34</td>\n",
              "      <td>12</td>\n",
              "      <td>4</td>\n",
              "      <td>2010</td>\n",
              "      <td>23</td>\n",
              "    </tr>\n",
              "    <tr>\n",
              "      <th>11315</th>\n",
              "      <td>2010-12-24</td>\n",
              "      <td>6.63</td>\n",
              "      <td>12</td>\n",
              "      <td>4</td>\n",
              "      <td>2010</td>\n",
              "      <td>24</td>\n",
              "    </tr>\n",
              "    <tr>\n",
              "      <th>11316</th>\n",
              "      <td>2010-12-25</td>\n",
              "      <td>5.50</td>\n",
              "      <td>12</td>\n",
              "      <td>4</td>\n",
              "      <td>2010</td>\n",
              "      <td>25</td>\n",
              "    </tr>\n",
              "    <tr>\n",
              "      <th>11317</th>\n",
              "      <td>2010-12-26</td>\n",
              "      <td>6.36</td>\n",
              "      <td>12</td>\n",
              "      <td>4</td>\n",
              "      <td>2010</td>\n",
              "      <td>26</td>\n",
              "    </tr>\n",
              "    <tr>\n",
              "      <th>11318</th>\n",
              "      <td>2010-12-27</td>\n",
              "      <td>5.42</td>\n",
              "      <td>12</td>\n",
              "      <td>4</td>\n",
              "      <td>2010</td>\n",
              "      <td>27</td>\n",
              "    </tr>\n",
              "    <tr>\n",
              "      <th>11319</th>\n",
              "      <td>2010-12-28</td>\n",
              "      <td>7.54</td>\n",
              "      <td>12</td>\n",
              "      <td>4</td>\n",
              "      <td>2010</td>\n",
              "      <td>28</td>\n",
              "    </tr>\n",
              "    <tr>\n",
              "      <th>11320</th>\n",
              "      <td>2010-12-29</td>\n",
              "      <td>6.45</td>\n",
              "      <td>12</td>\n",
              "      <td>4</td>\n",
              "      <td>2010</td>\n",
              "      <td>29</td>\n",
              "    </tr>\n",
              "    <tr>\n",
              "      <th>11321</th>\n",
              "      <td>2010-12-30</td>\n",
              "      <td>4.19</td>\n",
              "      <td>12</td>\n",
              "      <td>4</td>\n",
              "      <td>2010</td>\n",
              "      <td>30</td>\n",
              "    </tr>\n",
              "    <tr>\n",
              "      <th>11322</th>\n",
              "      <td>2010-12-31</td>\n",
              "      <td>5.12</td>\n",
              "      <td>12</td>\n",
              "      <td>4</td>\n",
              "      <td>2010</td>\n",
              "      <td>31</td>\n",
              "    </tr>\n",
              "  </tbody>\n",
              "</table>\n",
              "</div>"
            ],
            "text/plain": [
              "            date   temp  date_month  date_quarter  date_year  date_day\n",
              "11303 2010-12-12  10.45          12             4       2010        12\n",
              "11304 2010-12-13   8.28          12             4       2010        13\n",
              "11305 2010-12-14  11.82          12             4       2010        14\n",
              "11306 2010-12-15   7.55          12             4       2010        15\n",
              "11307 2010-12-16   4.51          12             4       2010        16\n",
              "11308 2010-12-17   6.54          12             4       2010        17\n",
              "11309 2010-12-18   6.95          12             4       2010        18\n",
              "11310 2010-12-19   6.95          12             4       2010        19\n",
              "11311 2010-12-20   9.76          12             4       2010        20\n",
              "11312 2010-12-21  11.42          12             4       2010        21\n",
              "11313 2010-12-22  12.49          12             4       2010        22\n",
              "11314 2010-12-23   9.34          12             4       2010        23\n",
              "11315 2010-12-24   6.63          12             4       2010        24\n",
              "11316 2010-12-25   5.50          12             4       2010        25\n",
              "11317 2010-12-26   6.36          12             4       2010        26\n",
              "11318 2010-12-27   5.42          12             4       2010        27\n",
              "11319 2010-12-28   7.54          12             4       2010        28\n",
              "11320 2010-12-29   6.45          12             4       2010        29\n",
              "11321 2010-12-30   4.19          12             4       2010        30\n",
              "11322 2010-12-31   5.12          12             4       2010        31"
            ]
          },
          "metadata": {
            "tags": []
          },
          "execution_count": 443
        }
      ]
    },
    {
      "cell_type": "code",
      "metadata": {
        "id": "06BCNPHXKy3_",
        "colab": {
          "base_uri": "https://localhost:8080/"
        },
        "outputId": "f283da49-33c6-47a0-9159-0ab3c039f4cd"
      },
      "source": [
        "df[\"date_year\"].nunique()"
      ],
      "execution_count": null,
      "outputs": [
        {
          "output_type": "execute_result",
          "data": {
            "text/plain": [
              "31"
            ]
          },
          "metadata": {
            "tags": []
          },
          "execution_count": 444
        }
      ]
    },
    {
      "cell_type": "code",
      "metadata": {
        "id": "qI-jTIzeLHnk",
        "colab": {
          "base_uri": "https://localhost:8080/"
        },
        "outputId": "fbda969d-ffb5-4012-a964-86e78a4244a4"
      },
      "source": [
        "df.info()"
      ],
      "execution_count": null,
      "outputs": [
        {
          "output_type": "stream",
          "text": [
            "<class 'pandas.core.frame.DataFrame'>\n",
            "RangeIndex: 11323 entries, 0 to 11322\n",
            "Data columns (total 6 columns):\n",
            " #   Column        Non-Null Count  Dtype         \n",
            "---  ------        --------------  -----         \n",
            " 0   date          11323 non-null  datetime64[ns]\n",
            " 1   temp          11323 non-null  float64       \n",
            " 2   date_month    11323 non-null  int64         \n",
            " 3   date_quarter  11323 non-null  int64         \n",
            " 4   date_year     11323 non-null  int64         \n",
            " 5   date_day      11323 non-null  int64         \n",
            "dtypes: datetime64[ns](1), float64(1), int64(4)\n",
            "memory usage: 530.9 KB\n"
          ],
          "name": "stdout"
        }
      ]
    },
    {
      "cell_type": "code",
      "metadata": {
        "id": "xe5p0bc9MhTr",
        "colab": {
          "base_uri": "https://localhost:8080/",
          "height": 488
        },
        "outputId": "5dc92432-052c-4ab3-90a1-1f1b0e02050f"
      },
      "source": [
        "# Plotting Heatmap To check Corelation\n",
        "\n",
        "f, ax = plt.subplots(figsize=(10, 8))\n",
        "corr = df.corr()\n",
        "sns.heatmap(corr, mask=np.zeros_like(corr, dtype=np.bool),cmap=sns.diverging_palette(220, 10, as_cmap=True), square=True, ax=ax, annot=True)\n",
        "plt.show()"
      ],
      "execution_count": null,
      "outputs": [
        {
          "output_type": "display_data",
          "data": {
            "image/png": "[encoded data removed]",
            "text/plain": [
              "<Figure size 720x576 with 2 Axes>"
            ]
          },
          "metadata": {
            "tags": [],
            "needs_background": "light"
          }
        }
      ]
    },
    {
      "cell_type": "code",
      "metadata": {
        "id": "qoFHAxTuMvsz"
      },
      "source": [
        "# Dropping date time columns\n",
        "\n",
        "df.drop([\"date\"], axis  = 1, inplace = True)"
      ],
      "execution_count": null,
      "outputs": []
    },
    {
      "cell_type": "code",
      "metadata": {
        "id": "0BmMB9AHNA5B",
        "colab": {
          "base_uri": "https://localhost:8080/"
        },
        "outputId": "1ecbd8a1-9c4a-456d-bdaa-0001e2954950"
      },
      "source": [
        "# Checking Corelation of numeric columns\n",
        "df.corr().loc['temp',:]"
      ],
      "execution_count": null,
      "outputs": [
        {
          "output_type": "execute_result",
          "data": {
            "text/plain": [
              "temp            1.000000\n",
              "date_month      0.166175\n",
              "date_quarter    0.175887\n",
              "date_year       0.053064\n",
              "date_day        0.070769\n",
              "Name: temp, dtype: float64"
            ]
          },
          "metadata": {
            "tags": []
          },
          "execution_count": 448
        }
      ]
    },
    {
      "cell_type": "code",
      "metadata": {
        "id": "nGO7hlsDNSHi"
      },
      "source": [
        "# Funtion to clean the dateset for Nan Values and infinite numbers and mismatch in datatype values\n",
        "\n",
        "def clean_dataset(df):\n",
        "    assert isinstance(df, pd.DataFrame), \"df needs to be a pd.DataFrame\"\n",
        "    df.dropna(inplace=True)\n",
        "    indices_to_keep = ~df.isin([np.nan, np.inf, -np.inf]).any(1)\n",
        "    return df[indices_to_keep].astype(np.float64)"
      ],
      "execution_count": null,
      "outputs": []
    },
    {
      "cell_type": "code",
      "metadata": {
        "id": "hWs6QcCfNa-C",
        "colab": {
          "base_uri": "https://localhost:8080/",
          "height": 415
        },
        "outputId": "9d09b0c8-07b4-43b4-a8d4-27fae02ca9a9"
      },
      "source": [
        "# Calling the Cleaning Function\n",
        "clean_dataset(df)"
      ],
      "execution_count": null,
      "outputs": [
        {
          "output_type": "execute_result",
          "data": {
            "text/html": [
              "<div>\n",
              "<style scoped>\n",
              "    .dataframe tbody tr th:only-of-type {\n",
              "        vertical-align: middle;\n",
              "    }\n",
              "\n",
              "    .dataframe tbody tr th {\n",
              "        vertical-align: top;\n",
              "    }\n",
              "\n",
              "    .dataframe thead th {\n",
              "        text-align: right;\n",
              "    }\n",
              "</style>\n",
              "<table border=\"1\" class=\"dataframe\">\n",
              "  <thead>\n",
              "    <tr style=\"text-align: right;\">\n",
              "      <th></th>\n",
              "      <th>temp</th>\n",
              "      <th>date_month</th>\n",
              "      <th>date_quarter</th>\n",
              "      <th>date_year</th>\n",
              "      <th>date_day</th>\n",
              "    </tr>\n",
              "  </thead>\n",
              "  <tbody>\n",
              "    <tr>\n",
              "      <th>0</th>\n",
              "      <td>4.16</td>\n",
              "      <td>1.0</td>\n",
              "      <td>1.0</td>\n",
              "      <td>1980.0</td>\n",
              "      <td>1.0</td>\n",
              "    </tr>\n",
              "    <tr>\n",
              "      <th>1</th>\n",
              "      <td>4.06</td>\n",
              "      <td>2.0</td>\n",
              "      <td>1.0</td>\n",
              "      <td>1980.0</td>\n",
              "      <td>1.0</td>\n",
              "    </tr>\n",
              "    <tr>\n",
              "      <th>2</th>\n",
              "      <td>7.12</td>\n",
              "      <td>3.0</td>\n",
              "      <td>1.0</td>\n",
              "      <td>1980.0</td>\n",
              "      <td>1.0</td>\n",
              "    </tr>\n",
              "    <tr>\n",
              "      <th>3</th>\n",
              "      <td>9.23</td>\n",
              "      <td>4.0</td>\n",
              "      <td>2.0</td>\n",
              "      <td>1980.0</td>\n",
              "      <td>1.0</td>\n",
              "    </tr>\n",
              "    <tr>\n",
              "      <th>4</th>\n",
              "      <td>3.20</td>\n",
              "      <td>5.0</td>\n",
              "      <td>2.0</td>\n",
              "      <td>1980.0</td>\n",
              "      <td>1.0</td>\n",
              "    </tr>\n",
              "    <tr>\n",
              "      <th>...</th>\n",
              "      <td>...</td>\n",
              "      <td>...</td>\n",
              "      <td>...</td>\n",
              "      <td>...</td>\n",
              "      <td>...</td>\n",
              "    </tr>\n",
              "    <tr>\n",
              "      <th>11318</th>\n",
              "      <td>5.42</td>\n",
              "      <td>12.0</td>\n",
              "      <td>4.0</td>\n",
              "      <td>2010.0</td>\n",
              "      <td>27.0</td>\n",
              "    </tr>\n",
              "    <tr>\n",
              "      <th>11319</th>\n",
              "      <td>7.54</td>\n",
              "      <td>12.0</td>\n",
              "      <td>4.0</td>\n",
              "      <td>2010.0</td>\n",
              "      <td>28.0</td>\n",
              "    </tr>\n",
              "    <tr>\n",
              "      <th>11320</th>\n",
              "      <td>6.45</td>\n",
              "      <td>12.0</td>\n",
              "      <td>4.0</td>\n",
              "      <td>2010.0</td>\n",
              "      <td>29.0</td>\n",
              "    </tr>\n",
              "    <tr>\n",
              "      <th>11321</th>\n",
              "      <td>4.19</td>\n",
              "      <td>12.0</td>\n",
              "      <td>4.0</td>\n",
              "      <td>2010.0</td>\n",
              "      <td>30.0</td>\n",
              "    </tr>\n",
              "    <tr>\n",
              "      <th>11322</th>\n",
              "      <td>5.12</td>\n",
              "      <td>12.0</td>\n",
              "      <td>4.0</td>\n",
              "      <td>2010.0</td>\n",
              "      <td>31.0</td>\n",
              "    </tr>\n",
              "  </tbody>\n",
              "</table>\n",
              "<p>11323 rows × 5 columns</p>\n",
              "</div>"
            ],
            "text/plain": [
              "       temp  date_month  date_quarter  date_year  date_day\n",
              "0      4.16         1.0           1.0     1980.0       1.0\n",
              "1      4.06         2.0           1.0     1980.0       1.0\n",
              "2      7.12         3.0           1.0     1980.0       1.0\n",
              "3      9.23         4.0           2.0     1980.0       1.0\n",
              "4      3.20         5.0           2.0     1980.0       1.0\n",
              "...     ...         ...           ...        ...       ...\n",
              "11318  5.42        12.0           4.0     2010.0      27.0\n",
              "11319  7.54        12.0           4.0     2010.0      28.0\n",
              "11320  6.45        12.0           4.0     2010.0      29.0\n",
              "11321  4.19        12.0           4.0     2010.0      30.0\n",
              "11322  5.12        12.0           4.0     2010.0      31.0\n",
              "\n",
              "[11323 rows x 5 columns]"
            ]
          },
          "metadata": {
            "tags": []
          },
          "execution_count": 450
        }
      ]
    },
    {
      "cell_type": "code",
      "metadata": {
        "id": "9mnweQ1OQInX"
      },
      "source": [
        ""
      ],
      "execution_count": null,
      "outputs": []
    },
    {
      "cell_type": "code",
      "metadata": {
        "id": "1eNhwJ82Ne5Y"
      },
      "source": [
        "Y_train = pd.DataFrame(data = df.iloc[:,0].values)\n",
        "df = df.drop(['temp'],axis=1)\n"
      ],
      "execution_count": null,
      "outputs": []
    },
    {
      "cell_type": "code",
      "metadata": {
        "id": "BpAOLGyQOLMa"
      },
      "source": [
        "from sklearn.model_selection import train_test_split\n",
        "X_train, X_test, y_train, y_test = train_test_split(df, Y_train, test_size=0.05, random_state=42)\n"
      ],
      "execution_count": null,
      "outputs": []
    },
    {
      "cell_type": "code",
      "metadata": {
        "id": "6LKejsSFOQAh",
        "colab": {
          "base_uri": "https://localhost:8080/",
          "height": 662
        },
        "outputId": "4bf17d59-7f43-4b99-89e4-ce2b4e9d8fbe"
      },
      "source": [
        "X_test.head(20)"
      ],
      "execution_count": null,
      "outputs": [
        {
          "output_type": "execute_result",
          "data": {
            "text/html": [
              "<div>\n",
              "<style scoped>\n",
              "    .dataframe tbody tr th:only-of-type {\n",
              "        vertical-align: middle;\n",
              "    }\n",
              "\n",
              "    .dataframe tbody tr th {\n",
              "        vertical-align: top;\n",
              "    }\n",
              "\n",
              "    .dataframe thead th {\n",
              "        text-align: right;\n",
              "    }\n",
              "</style>\n",
              "<table border=\"1\" class=\"dataframe\">\n",
              "  <thead>\n",
              "    <tr style=\"text-align: right;\">\n",
              "      <th></th>\n",
              "      <th>date_month</th>\n",
              "      <th>date_quarter</th>\n",
              "      <th>date_year</th>\n",
              "      <th>date_day</th>\n",
              "    </tr>\n",
              "  </thead>\n",
              "  <tbody>\n",
              "    <tr>\n",
              "      <th>1250</th>\n",
              "      <td>4</td>\n",
              "      <td>2</td>\n",
              "      <td>1983</td>\n",
              "      <td>6</td>\n",
              "    </tr>\n",
              "    <tr>\n",
              "      <th>2816</th>\n",
              "      <td>9</td>\n",
              "      <td>3</td>\n",
              "      <td>1987</td>\n",
              "      <td>17</td>\n",
              "    </tr>\n",
              "    <tr>\n",
              "      <th>6013</th>\n",
              "      <td>6</td>\n",
              "      <td>2</td>\n",
              "      <td>1996</td>\n",
              "      <td>18</td>\n",
              "    </tr>\n",
              "    <tr>\n",
              "      <th>7609</th>\n",
              "      <td>10</td>\n",
              "      <td>4</td>\n",
              "      <td>2000</td>\n",
              "      <td>31</td>\n",
              "    </tr>\n",
              "    <tr>\n",
              "      <th>9174</th>\n",
              "      <td>12</td>\n",
              "      <td>4</td>\n",
              "      <td>2005</td>\n",
              "      <td>2</td>\n",
              "    </tr>\n",
              "    <tr>\n",
              "      <th>1807</th>\n",
              "      <td>12</td>\n",
              "      <td>4</td>\n",
              "      <td>1984</td>\n",
              "      <td>12</td>\n",
              "    </tr>\n",
              "    <tr>\n",
              "      <th>1121</th>\n",
              "      <td>1</td>\n",
              "      <td>1</td>\n",
              "      <td>1983</td>\n",
              "      <td>26</td>\n",
              "    </tr>\n",
              "    <tr>\n",
              "      <th>6321</th>\n",
              "      <td>4</td>\n",
              "      <td>2</td>\n",
              "      <td>1997</td>\n",
              "      <td>22</td>\n",
              "    </tr>\n",
              "    <tr>\n",
              "      <th>1383</th>\n",
              "      <td>10</td>\n",
              "      <td>4</td>\n",
              "      <td>1983</td>\n",
              "      <td>15</td>\n",
              "    </tr>\n",
              "    <tr>\n",
              "      <th>5773</th>\n",
              "      <td>10</td>\n",
              "      <td>4</td>\n",
              "      <td>1995</td>\n",
              "      <td>22</td>\n",
              "    </tr>\n",
              "    <tr>\n",
              "      <th>5459</th>\n",
              "      <td>12</td>\n",
              "      <td>4</td>\n",
              "      <td>1994</td>\n",
              "      <td>12</td>\n",
              "    </tr>\n",
              "    <tr>\n",
              "      <th>8560</th>\n",
              "      <td>9</td>\n",
              "      <td>3</td>\n",
              "      <td>2003</td>\n",
              "      <td>6</td>\n",
              "    </tr>\n",
              "    <tr>\n",
              "      <th>9631</th>\n",
              "      <td>5</td>\n",
              "      <td>2</td>\n",
              "      <td>2006</td>\n",
              "      <td>15</td>\n",
              "    </tr>\n",
              "    <tr>\n",
              "      <th>2039</th>\n",
              "      <td>1</td>\n",
              "      <td>1</td>\n",
              "      <td>1985</td>\n",
              "      <td>8</td>\n",
              "    </tr>\n",
              "    <tr>\n",
              "      <th>11127</th>\n",
              "      <td>6</td>\n",
              "      <td>2</td>\n",
              "      <td>2010</td>\n",
              "      <td>19</td>\n",
              "    </tr>\n",
              "    <tr>\n",
              "      <th>9332</th>\n",
              "      <td>7</td>\n",
              "      <td>3</td>\n",
              "      <td>2005</td>\n",
              "      <td>20</td>\n",
              "    </tr>\n",
              "    <tr>\n",
              "      <th>9560</th>\n",
              "      <td>5</td>\n",
              "      <td>2</td>\n",
              "      <td>2006</td>\n",
              "      <td>3</td>\n",
              "    </tr>\n",
              "    <tr>\n",
              "      <th>7139</th>\n",
              "      <td>7</td>\n",
              "      <td>3</td>\n",
              "      <td>1999</td>\n",
              "      <td>19</td>\n",
              "    </tr>\n",
              "    <tr>\n",
              "      <th>10703</th>\n",
              "      <td>4</td>\n",
              "      <td>2</td>\n",
              "      <td>2009</td>\n",
              "      <td>21</td>\n",
              "    </tr>\n",
              "    <tr>\n",
              "      <th>3755</th>\n",
              "      <td>4</td>\n",
              "      <td>2</td>\n",
              "      <td>1990</td>\n",
              "      <td>13</td>\n",
              "    </tr>\n",
              "  </tbody>\n",
              "</table>\n",
              "</div>"
            ],
            "text/plain": [
              "       date_month  date_quarter  date_year  date_day\n",
              "1250            4             2       1983         6\n",
              "2816            9             3       1987        17\n",
              "6013            6             2       1996        18\n",
              "7609           10             4       2000        31\n",
              "9174           12             4       2005         2\n",
              "1807           12             4       1984        12\n",
              "1121            1             1       1983        26\n",
              "6321            4             2       1997        22\n",
              "1383           10             4       1983        15\n",
              "5773           10             4       1995        22\n",
              "5459           12             4       1994        12\n",
              "8560            9             3       2003         6\n",
              "9631            5             2       2006        15\n",
              "2039            1             1       1985         8\n",
              "11127           6             2       2010        19\n",
              "9332            7             3       2005        20\n",
              "9560            5             2       2006         3\n",
              "7139            7             3       1999        19\n",
              "10703           4             2       2009        21\n",
              "3755            4             2       1990        13"
            ]
          },
          "metadata": {
            "tags": []
          },
          "execution_count": 453
        }
      ]
    },
    {
      "cell_type": "code",
      "metadata": {
        "id": "LXrXHPsXThqm"
      },
      "source": [
        "X_train.reset_index(drop=True,inplace=True)\n",
        "X_test.reset_index(drop=True,inplace=True)\n",
        "y_train.reset_index(drop=True,inplace=True)\n",
        "y_train.reset_index(drop=True,inplace=True)"
      ],
      "execution_count": null,
      "outputs": []
    },
    {
      "cell_type": "code",
      "metadata": {
        "id": "xRLgJsjwQK3K"
      },
      "source": [
        "# Function for feature Selection Based on Corelation\n",
        "def cor(dataset,thres):\n",
        "    col_corr = set()\n",
        "    corr_matrix = dataset.corr()\n",
        "    for i in range(len(corr_matrix.columns)):\n",
        "        for j in range(i):\n",
        "            if abs(corr_matrix.iloc[i,j]) > thres:\n",
        "                colname = corr_matrix.columns[i]\n",
        "                col_corr.add(colname)\n",
        "    return col_corr            "
      ],
      "execution_count": null,
      "outputs": []
    },
    {
      "cell_type": "code",
      "metadata": {
        "id": "-vxVT5FJQLxh",
        "colab": {
          "base_uri": "https://localhost:8080/"
        },
        "outputId": "6b5b669f-a4c0-4a36-cd99-2d0680ce68f1"
      },
      "source": [
        "# Setting Threshold value for feature Selection\n",
        "\n",
        "corr_features = cor(df, 0.8)\n",
        "len(corr_features)"
      ],
      "execution_count": null,
      "outputs": [
        {
          "output_type": "execute_result",
          "data": {
            "text/plain": [
              "1"
            ]
          },
          "metadata": {
            "tags": []
          },
          "execution_count": 456
        }
      ]
    },
    {
      "cell_type": "code",
      "metadata": {
        "id": "K_GvLA05QOUY",
        "colab": {
          "base_uri": "https://localhost:8080/"
        },
        "outputId": "f3c41fd0-6cb6-4c16-ef93-ac9fe889697f"
      },
      "source": [
        "corr_features"
      ],
      "execution_count": null,
      "outputs": [
        {
          "output_type": "execute_result",
          "data": {
            "text/plain": [
              "{'date_quarter'}"
            ]
          },
          "metadata": {
            "tags": []
          },
          "execution_count": 457
        }
      ]
    },
    {
      "cell_type": "code",
      "metadata": {
        "id": "tHMQfGmXQUWG"
      },
      "source": [
        "# Dropping Columns that shows poor Features\n",
        "\n",
        "df.drop(labels=corr_features, axis = 1, inplace= True)"
      ],
      "execution_count": null,
      "outputs": []
    },
    {
      "cell_type": "code",
      "metadata": {
        "id": "BrNc5xEUVAsQ",
        "colab": {
          "base_uri": "https://localhost:8080/"
        },
        "outputId": "a23ba344-7e9e-4935-8600-9bd678a7588d"
      },
      "source": [
        "X_train.shape"
      ],
      "execution_count": null,
      "outputs": [
        {
          "output_type": "execute_result",
          "data": {
            "text/plain": [
              "(10756, 4)"
            ]
          },
          "metadata": {
            "tags": []
          },
          "execution_count": 459
        }
      ]
    },
    {
      "cell_type": "code",
      "metadata": {
        "id": "-PHk8_HVVE15",
        "colab": {
          "base_uri": "https://localhost:8080/"
        },
        "outputId": "a327e668-93fd-404b-b41e-613f9fc0d965"
      },
      "source": [
        "X_test.shape"
      ],
      "execution_count": null,
      "outputs": [
        {
          "output_type": "execute_result",
          "data": {
            "text/plain": [
              "(567, 4)"
            ]
          },
          "metadata": {
            "tags": []
          },
          "execution_count": 460
        }
      ]
    },
    {
      "cell_type": "code",
      "metadata": {
        "id": "L_iqBNbmQcJB",
        "colab": {
          "base_uri": "https://localhost:8080/"
        },
        "outputId": "1a13ab20-d7a7-4a9f-93a1-d0788161c0b9"
      },
      "source": [
        "lr = LinearRegression()\n",
        "lr.fit(X_train, y_train)\n"
      ],
      "execution_count": null,
      "outputs": [
        {
          "output_type": "execute_result",
          "data": {
            "text/plain": [
              "LinearRegression(copy_X=True, fit_intercept=True, n_jobs=None, normalize=False)"
            ]
          },
          "metadata": {
            "tags": []
          },
          "execution_count": 461
        }
      ]
    },
    {
      "cell_type": "code",
      "metadata": {
        "id": "WsiRRmGVQ6rx",
        "colab": {
          "base_uri": "https://localhost:8080/"
        },
        "outputId": "96037945-f1fe-45ee-8d6e-8972a873bdd4"
      },
      "source": [
        "predict = lr.predict(X_train)\n",
        "MSE = mean_squared_error(y_train, predict)\n",
        "RMSE = np.sqrt(MSE)\n",
        "R2_SCORE = r2_score(y_train, predict)\n",
        "SCORE = lr.score(X_train, y_train)\n",
        "print(MSE, '\\n',RMSE, '\\n' ,R2_SCORE, '\\n', SCORE, '\\n')"
      ],
      "execution_count": null,
      "outputs": [
        {
          "output_type": "stream",
          "text": [
            "59.75590839927722 \n",
            " 7.730194590000773 \n",
            " 0.03916811076570137 \n",
            " 0.03916811076570137 \n",
            "\n"
          ],
          "name": "stdout"
        }
      ]
    },
    {
      "cell_type": "code",
      "metadata": {
        "id": "0l1RIxDpV3HC",
        "colab": {
          "base_uri": "https://localhost:8080/"
        },
        "outputId": "5c263ab8-b703-494d-a3b8-a64754371f8f"
      },
      "source": [
        "predict = lr.predict(X_test)\n",
        "MSE = mean_squared_error(y_test, predict)\n",
        "RMSE = np.sqrt(MSE)\n",
        "R2_SCORE = r2_score(y_test, predict)\n",
        "SCORE = lr.score(X_test, y_test)\n",
        "print(MSE, '\\n',RMSE, '\\n' ,R2_SCORE, '\\n', SCORE, '\\n')"
      ],
      "execution_count": null,
      "outputs": [
        {
          "output_type": "stream",
          "text": [
            "57.35972894395531 \n",
            " 7.573620596779014 \n",
            " 0.03182779007742742 \n",
            " 0.03182779007742742 \n",
            "\n"
          ],
          "name": "stdout"
        }
      ]
    },
    {
      "cell_type": "code",
      "metadata": {
        "id": "9-DRpj7OSK2y",
        "colab": {
          "base_uri": "https://localhost:8080/"
        },
        "outputId": "93217db2-20ee-48e5-99db-3f175bcf77d6"
      },
      "source": [
        "dtr = DecisionTreeRegressor()\n",
        "dtr.fit(X_train, y_train)\n"
      ],
      "execution_count": null,
      "outputs": [
        {
          "output_type": "execute_result",
          "data": {
            "text/plain": [
              "DecisionTreeRegressor(ccp_alpha=0.0, criterion='mse', max_depth=None,\n",
              "                      max_features=None, max_leaf_nodes=None,\n",
              "                      min_impurity_decrease=0.0, min_impurity_split=None,\n",
              "                      min_samples_leaf=1, min_samples_split=2,\n",
              "                      min_weight_fraction_leaf=0.0, presort='deprecated',\n",
              "                      random_state=None, splitter='best')"
            ]
          },
          "metadata": {
            "tags": []
          },
          "execution_count": 464
        }
      ]
    },
    {
      "cell_type": "code",
      "metadata": {
        "id": "PSU-iJkTSxwm",
        "colab": {
          "base_uri": "https://localhost:8080/"
        },
        "outputId": "1b831cdc-d877-4354-e64e-6ba455f1c417"
      },
      "source": [
        "predict = dtr.predict(X_train)\n",
        "MSE = mean_squared_error(y_train, predict)\n",
        "RMSE = np.sqrt(MSE)\n",
        "R2_SCORE = r2_score(y_train, predict)\n",
        "SCORE = dtr.score(X_train, y_train)\n",
        "print(MSE, '\\n',RMSE, '\\n' ,R2_SCORE, '\\n', SCORE, '\\n')"
      ],
      "execution_count": null,
      "outputs": [
        {
          "output_type": "stream",
          "text": [
            "0.0 \n",
            " 0.0 \n",
            " 1.0 \n",
            " 1.0 \n",
            "\n"
          ],
          "name": "stdout"
        }
      ]
    },
    {
      "cell_type": "code",
      "metadata": {
        "id": "U8wEKNKjS9Sy",
        "colab": {
          "base_uri": "https://localhost:8080/"
        },
        "outputId": "c0b9fd2a-b44f-47b9-f085-98704549e47c"
      },
      "source": [
        "predict = dtr.predict(X_test)\n",
        "MSE = mean_squared_error(y_test, predict)\n",
        "RMSE = np.sqrt(MSE)\n",
        "R2_SCORE = r2_score(y_test, predict)\n",
        "SCORE = dtr.score(X_test, y_test)\n",
        "print(MSE, '\\n',RMSE, '\\n' ,R2_SCORE, '\\n', SCORE, '\\n')"
      ],
      "execution_count": null,
      "outputs": [
        {
          "output_type": "stream",
          "text": [
            "5.314422574955909 \n",
            " 2.305303141661831 \n",
            " 0.9102981073379063 \n",
            " 0.9102981073379063 \n",
            "\n"
          ],
          "name": "stdout"
        }
      ]
    },
    {
      "cell_type": "code",
      "metadata": {
        "id": "MkobuqVoXL3l",
        "colab": {
          "base_uri": "https://localhost:8080/"
        },
        "outputId": "2cb3b586-9e4d-4462-9673-fdcd20b565c4"
      },
      "source": [
        "rf = RandomForestRegressor(n_estimators= 20, random_state= 10)\n",
        "rf.fit(X_train, y_train)\n"
      ],
      "execution_count": null,
      "outputs": [
        {
          "output_type": "execute_result",
          "data": {
            "text/plain": [
              "RandomForestRegressor(bootstrap=True, ccp_alpha=0.0, criterion='mse',\n",
              "                      max_depth=None, max_features='auto', max_leaf_nodes=None,\n",
              "                      max_samples=None, min_impurity_decrease=0.0,\n",
              "                      min_impurity_split=None, min_samples_leaf=1,\n",
              "                      min_samples_split=2, min_weight_fraction_leaf=0.0,\n",
              "                      n_estimators=20, n_jobs=None, oob_score=False,\n",
              "                      random_state=10, verbose=0, warm_start=False)"
            ]
          },
          "metadata": {
            "tags": []
          },
          "execution_count": 467
        }
      ]
    },
    {
      "cell_type": "code",
      "metadata": {
        "id": "HY9TMjkNXYoC",
        "colab": {
          "base_uri": "https://localhost:8080/"
        },
        "outputId": "3c646646-f119-4973-b2c1-8aaf1e3b775f"
      },
      "source": [
        "predict = rf.predict(X_train)\n",
        "MSE = mean_squared_error(y_train, predict)\n",
        "RMSE = np.sqrt(MSE)\n",
        "R2_SCORE = r2_score(y_train, predict)\n",
        "SCORE = rf.score(X_train, y_train)\n",
        "print(MSE, '\\n',RMSE, '\\n' ,R2_SCORE, '\\n', SCORE, '\\n')"
      ],
      "execution_count": null,
      "outputs": [
        {
          "output_type": "stream",
          "text": [
            "0.5580877578328375 \n",
            " 0.7470527142262703 \n",
            " 0.9910263515511456 \n",
            " 0.9910263515511457 \n",
            "\n"
          ],
          "name": "stdout"
        }
      ]
    },
    {
      "cell_type": "code",
      "metadata": {
        "id": "wZmj7HuNXj9x",
        "colab": {
          "base_uri": "https://localhost:8080/"
        },
        "outputId": "686ad3cc-7a6d-4d6f-cd9b-dbc82f7779d9"
      },
      "source": [
        "predict = rf.predict(X_test)\n",
        "MSE = mean_squared_error(y_test, predict)\n",
        "RMSE = np.sqrt(MSE)\n",
        "R2_SCORE = r2_score(y_test, predict)\n",
        "SCORE = rf.score(X_test, y_test)\n",
        "print(MSE, '\\n',RMSE, '\\n' ,R2_SCORE, '\\n', SCORE, '\\n')"
      ],
      "execution_count": null,
      "outputs": [
        {
          "output_type": "stream",
          "text": [
            "3.5002053395061736 \n",
            " 1.8708835718735075 \n",
            " 0.9409201960831511 \n",
            " 0.9409201960831511 \n",
            "\n"
          ],
          "name": "stdout"
        }
      ]
    },
    {
      "cell_type": "code",
      "metadata": {
        "id": "ONQojRXipbOL",
        "colab": {
          "base_uri": "https://localhost:8080/",
          "height": 70
        },
        "outputId": "6b2fb6ff-ccd1-4203-fb46-6917e2d17460"
      },
      "source": [
        "\"\"\"from sklearn.model_selection import GridSearchCV\n",
        "param_grid = {\"criterion\": [\"mse\", \"mae\"],\n",
        "              \"min_samples_split\": [5, 10, 15, 20, 40],\n",
        "              \"max_depth\": [1, 2, 3, 4, 5, 6, 7, 8],\n",
        "              \"min_samples_leaf\": [5, 10, 20, 30, 40, 50],\n",
        "              \"max_leaf_nodes\": [5, 10, 20, 30, 40, 50],\n",
        "              }\"\"\""
      ],
      "execution_count": null,
      "outputs": [
        {
          "output_type": "execute_result",
          "data": {
            "application/vnd.google.colaboratory.intrinsic+json": {
              "type": "string"
            },
            "text/plain": [
              "'from sklearn.model_selection import GridSearchCV\\nparam_grid = {\"criterion\": [\"mse\", \"mae\"],\\n              \"min_samples_split\": [5, 10, 15, 20, 40],\\n              \"max_depth\": [1, 2, 3, 4, 5, 6, 7, 8],\\n              \"min_samples_leaf\": [5, 10, 20, 30, 40, 50],\\n              \"max_leaf_nodes\": [5, 10, 20, 30, 40, 50],\\n              }'"
            ]
          },
          "metadata": {
            "tags": []
          },
          "execution_count": 470
        }
      ]
    },
    {
      "cell_type": "code",
      "metadata": {
        "id": "tHRk2RAYpuK_"
      },
      "source": [
        "#dtr = DecisionTreeRegressor()"
      ],
      "execution_count": null,
      "outputs": []
    },
    {
      "cell_type": "code",
      "metadata": {
        "id": "0rG8wRU4puQV"
      },
      "source": [
        "#grid_search = GridSearchCV(estimator = dtr, param_grid = param_grid, cv = 5)"
      ],
      "execution_count": null,
      "outputs": []
    },
    {
      "cell_type": "code",
      "metadata": {
        "id": "yg8bY1q3puXO"
      },
      "source": [
        "#grid_search.fit(X_train, y_train)"
      ],
      "execution_count": null,
      "outputs": []
    },
    {
      "cell_type": "code",
      "metadata": {
        "id": "13y1vV2mqFsL"
      },
      "source": [
        "#grid_search.best_params_"
      ],
      "execution_count": null,
      "outputs": []
    },
    {
      "cell_type": "code",
      "metadata": {
        "id": "TQlpKn4CqUMZ",
        "colab": {
          "base_uri": "https://localhost:8080/"
        },
        "outputId": "82d31a99-44a6-40cb-e816-6190738982ce"
      },
      "source": [
        "dtr = DecisionTreeRegressor(max_depth = 10, max_leaf_nodes = 200, min_samples_leaf = 10, min_samples_split = 20)\n",
        "dtr.fit(X_train, y_train)\n"
      ],
      "execution_count": null,
      "outputs": [
        {
          "output_type": "execute_result",
          "data": {
            "text/plain": [
              "DecisionTreeRegressor(ccp_alpha=0.0, criterion='mse', max_depth=10,\n",
              "                      max_features=None, max_leaf_nodes=200,\n",
              "                      min_impurity_decrease=0.0, min_impurity_split=None,\n",
              "                      min_samples_leaf=10, min_samples_split=20,\n",
              "                      min_weight_fraction_leaf=0.0, presort='deprecated',\n",
              "                      random_state=None, splitter='best')"
            ]
          },
          "metadata": {
            "tags": []
          },
          "execution_count": 475
        }
      ]
    },
    {
      "cell_type": "code",
      "metadata": {
        "id": "YKz6gaFiqURa",
        "colab": {
          "base_uri": "https://localhost:8080/"
        },
        "outputId": "060825a1-72c6-44e1-e2da-f6ece0cff193"
      },
      "source": [
        "predict = dtr.predict(X_train)\n",
        "MSE = mean_squared_error(y_train, predict)\n",
        "RMSE = np.sqrt(MSE)\n",
        "R2_SCORE = r2_score(y_train, predict)\n",
        "SCORE = dtr.score(X_train, y_train)\n",
        "print(MSE, '\\n',RMSE, '\\n' ,R2_SCORE, '\\n', SCORE, '\\n')"
      ],
      "execution_count": null,
      "outputs": [
        {
          "output_type": "stream",
          "text": [
            "4.771630971120936 \n",
            " 2.184406320060656 \n",
            " 0.9232756170305918 \n",
            " 0.9232756170305918 \n",
            "\n"
          ],
          "name": "stdout"
        }
      ]
    },
    {
      "cell_type": "code",
      "metadata": {
        "id": "-s8dlfk_qUYL",
        "colab": {
          "base_uri": "https://localhost:8080/"
        },
        "outputId": "4afd9dcd-9e7d-43fc-a15c-c7b89ed9ec50"
      },
      "source": [
        "predict = dtr.predict(X_test)\n",
        "MSE = mean_squared_error(y_test, predict)\n",
        "RMSE = np.sqrt(MSE)\n",
        "R2_SCORE = r2_score(y_test, predict)\n",
        "SCORE = dtr.score(X_test, y_test)\n",
        "print(MSE, '\\n',RMSE, '\\n' ,R2_SCORE, '\\n', SCORE, '\\n')"
      ],
      "execution_count": null,
      "outputs": [
        {
          "output_type": "stream",
          "text": [
            "4.82035897947602 \n",
            " 2.1955315938232407 \n",
            " 0.9186373838980418 \n",
            " 0.9186373838980418 \n",
            "\n"
          ],
          "name": "stdout"
        }
      ]
    },
    {
      "cell_type": "code",
      "metadata": {
        "id": "VrAteDjncf5k",
        "colab": {
          "base_uri": "https://localhost:8080/",
          "height": 53
        },
        "outputId": "84969b4e-2007-4d29-9a6c-b65cac62661d"
      },
      "source": [
        "\"\"\"\n",
        "param_grid = {\n",
        "    'bootstrap': [True],\n",
        "    'max_depth': [30, 40, 50, 60, 70],\n",
        "    'max_features': [4, 5, 6, 7, 8],\n",
        "    'min_samples_leaf': [1, 2, 3, 4, 5],\n",
        "    'min_samples_split': [1, 2, 3, 4, 5, 6],\n",
        "    'n_estimators': [30, 40, 50, 60]\n",
        "}\n",
        "\"\"\""
      ],
      "execution_count": null,
      "outputs": [
        {
          "output_type": "execute_result",
          "data": {
            "application/vnd.google.colaboratory.intrinsic+json": {
              "type": "string"
            },
            "text/plain": [
              "\"\\nparam_grid = {\\n    'bootstrap': [True],\\n    'max_depth': [30, 40, 50, 60, 70],\\n    'max_features': [4, 5, 6, 7, 8],\\n    'min_samples_leaf': [1, 2, 3, 4, 5],\\n    'min_samples_split': [1, 2, 3, 4, 5, 6],\\n    'n_estimators': [30, 40, 50, 60]\\n}\\n\""
            ]
          },
          "metadata": {
            "tags": []
          },
          "execution_count": 478
        }
      ]
    },
    {
      "cell_type": "code",
      "metadata": {
        "id": "-OHvIZfScuw6"
      },
      "source": [
        "#rf = RandomForestRegressor()"
      ],
      "execution_count": null,
      "outputs": []
    },
    {
      "cell_type": "code",
      "metadata": {
        "id": "drXtXx2Jcu5C"
      },
      "source": [
        "#grid_search = GridSearchCV(estimator = rf, param_grid = param_grid, cv = 5, n_jobs = -1, verbose = 2)"
      ],
      "execution_count": null,
      "outputs": []
    },
    {
      "cell_type": "code",
      "metadata": {
        "id": "qxAaaljUcu8D"
      },
      "source": [
        "#grid_search.fit(X_train, y_train)"
      ],
      "execution_count": null,
      "outputs": []
    },
    {
      "cell_type": "code",
      "metadata": {
        "id": "NJDOzy9_cu_u"
      },
      "source": [
        "#grid_search.best_params_"
      ],
      "execution_count": null,
      "outputs": []
    },
    {
      "cell_type": "code",
      "metadata": {
        "id": "a4klBASdj5w0",
        "colab": {
          "base_uri": "https://localhost:8080/"
        },
        "outputId": "59273d42-9b12-4875-b2e1-36a94905c495"
      },
      "source": [
        "rf = RandomForestRegressor(bootstrap= True, max_depth =  80, max_features = 4, min_samples_leaf = 1, min_samples_split = 2, n_estimators = 60, random_state=10)\n",
        "rf.fit(X_train, y_train)"
      ],
      "execution_count": null,
      "outputs": [
        {
          "output_type": "execute_result",
          "data": {
            "text/plain": [
              "RandomForestRegressor(bootstrap=True, ccp_alpha=0.0, criterion='mse',\n",
              "                      max_depth=80, max_features=4, max_leaf_nodes=None,\n",
              "                      max_samples=None, min_impurity_decrease=0.0,\n",
              "                      min_impurity_split=None, min_samples_leaf=1,\n",
              "                      min_samples_split=2, min_weight_fraction_leaf=0.0,\n",
              "                      n_estimators=60, n_jobs=None, oob_score=False,\n",
              "                      random_state=10, verbose=0, warm_start=False)"
            ]
          },
          "metadata": {
            "tags": []
          },
          "execution_count": 483
        }
      ]
    },
    {
      "cell_type": "code",
      "metadata": {
        "id": "FcnjLGZDm2YA",
        "colab": {
          "base_uri": "https://localhost:8080/"
        },
        "outputId": "ec27eff4-b1c8-4891-a62c-fcefb1c1bd1f"
      },
      "source": [
        "predict = rf.predict(X_train)\n",
        "MSE = mean_squared_error(y_train, predict)\n",
        "RMSE = np.sqrt(MSE)\n",
        "R2_SCORE = r2_score(y_train, predict)\n",
        "SCORE = rf.score(X_train, y_train)\n",
        "print(MSE, '\\n',RMSE, '\\n' ,R2_SCORE, '\\n', SCORE, '\\n')"
      ],
      "execution_count": null,
      "outputs": [
        {
          "output_type": "stream",
          "text": [
            "0.4991323379431635 \n",
            " 0.7064929850629541 \n",
            " 0.9919743121627507 \n",
            " 0.9919743121627507 \n",
            "\n"
          ],
          "name": "stdout"
        }
      ]
    },
    {
      "cell_type": "code",
      "metadata": {
        "id": "3Sd_G2eIm-YD",
        "colab": {
          "base_uri": "https://localhost:8080/"
        },
        "outputId": "7cd92bee-5707-4bf5-83fa-ad8366143b80"
      },
      "source": [
        "predict = rf.predict(X_test)\n",
        "MSE = mean_squared_error(y_test, predict)\n",
        "RMSE = np.sqrt(MSE)\n",
        "R2_SCORE = r2_score(y_test, predict)\n",
        "SCORE = rf.score(X_test, y_test)\n",
        "print(MSE, '\\n',RMSE, '\\n' ,R2_SCORE, '\\n', SCORE, '\\n')"
      ],
      "execution_count": null,
      "outputs": [
        {
          "output_type": "stream",
          "text": [
            "3.4095786819517926 \n",
            " 1.8465044494806375 \n",
            " 0.9424498792413134 \n",
            " 0.9424498792413134 \n",
            "\n"
          ],
          "name": "stdout"
        }
      ]
    },
    {
      "cell_type": "code",
      "metadata": {
        "id": "4QuZUwC-YB40",
        "colab": {
          "base_uri": "https://localhost:8080/",
          "height": 35
        },
        "outputId": "bfa18f86-d6ab-498b-a69c-3950c4c62829"
      },
      "source": [
        "'''sr = SVR()\n",
        "sr.fit(X_train, y_train)\n",
        "'''"
      ],
      "execution_count": null,
      "outputs": [
        {
          "output_type": "execute_result",
          "data": {
            "application/vnd.google.colaboratory.intrinsic+json": {
              "type": "string"
            },
            "text/plain": [
              "'sr = SVR()\\nsr.fit(X_train, y_train)\\n'"
            ]
          },
          "metadata": {
            "tags": []
          },
          "execution_count": 486
        }
      ]
    },
    {
      "cell_type": "code",
      "metadata": {
        "id": "7JWlzS2xYb2F",
        "colab": {
          "base_uri": "https://localhost:8080/",
          "height": 53
        },
        "outputId": "02651a2d-8532-482b-cfe7-aebcda2b9b19"
      },
      "source": [
        "'''predict = sr.predict(X_train)\n",
        "MSE = mean_squared_error(y_train, predict)\n",
        "RMSE = np.sqrt(MSE)\n",
        "R2_SCORE = r2_score(y_train, predict)\n",
        "SCORE = sr.score(X_train, y_train)\n",
        "print(MSE, '\\n',RMSE, '\\n' ,R2_SCORE, '\\n', SCORE, '\\n')'''"
      ],
      "execution_count": null,
      "outputs": [
        {
          "output_type": "execute_result",
          "data": {
            "application/vnd.google.colaboratory.intrinsic+json": {
              "type": "string"
            },
            "text/plain": [
              "\"predict = sr.predict(X_train)\\nMSE = mean_squared_error(y_train, predict)\\nRMSE = np.sqrt(MSE)\\nR2_SCORE = r2_score(y_train, predict)\\nSCORE = sr.score(X_train, y_train)\\nprint(MSE, '\\n',RMSE, '\\n' ,R2_SCORE, '\\n', SCORE, '\\n')\""
            ]
          },
          "metadata": {
            "tags": []
          },
          "execution_count": 487
        }
      ]
    },
    {
      "cell_type": "code",
      "metadata": {
        "id": "cHXJwwwJYb5R",
        "colab": {
          "base_uri": "https://localhost:8080/",
          "height": 53
        },
        "outputId": "de1be13f-0193-4e42-d48e-b6d65df26268"
      },
      "source": [
        "'''predict = sr.predict(X_test)\n",
        "MSE = mean_squared_error(y_test, predict)\n",
        "RMSE = np.sqrt(MSE)\n",
        "R2_SCORE = r2_score(y_test, predict)\n",
        "SCORE = sr.score(X_test, y_test) \n",
        "print(MSE, '\\n',RMSE, '\\n' ,R2_SCORE, '\\n', SCORE, '\\n')'''"
      ],
      "execution_count": null,
      "outputs": [
        {
          "output_type": "execute_result",
          "data": {
            "application/vnd.google.colaboratory.intrinsic+json": {
              "type": "string"
            },
            "text/plain": [
              "\"predict = sr.predict(X_test)\\nMSE = mean_squared_error(y_test, predict)\\nRMSE = np.sqrt(MSE)\\nR2_SCORE = r2_score(y_test, predict)\\nSCORE = sr.score(X_test, y_test) \\nprint(MSE, '\\n',RMSE, '\\n' ,R2_SCORE, '\\n', SCORE, '\\n')\""
            ]
          },
          "metadata": {
            "tags": []
          },
          "execution_count": 488
        }
      ]
    },
    {
      "cell_type": "code",
      "metadata": {
        "id": "hxAhA8eSoW9V",
        "colab": {
          "base_uri": "https://localhost:8080/",
          "height": 202
        },
        "outputId": "0c36a3e2-122c-4f46-a653-03bd6a10d009"
      },
      "source": [
        "test = pd.read_csv('/content/drive/MyDrive/Aurora_RoundHacks/new_test.csv')\n",
        "test = pd.DataFrame(test)\n",
        "test.head()"
      ],
      "execution_count": null,
      "outputs": [
        {
          "output_type": "execute_result",
          "data": {
            "text/html": [
              "<div>\n",
              "<style scoped>\n",
              "    .dataframe tbody tr th:only-of-type {\n",
              "        vertical-align: middle;\n",
              "    }\n",
              "\n",
              "    .dataframe tbody tr th {\n",
              "        vertical-align: top;\n",
              "    }\n",
              "\n",
              "    .dataframe thead th {\n",
              "        text-align: right;\n",
              "    }\n",
              "</style>\n",
              "<table border=\"1\" class=\"dataframe\">\n",
              "  <thead>\n",
              "    <tr style=\"text-align: right;\">\n",
              "      <th></th>\n",
              "      <th>date</th>\n",
              "    </tr>\n",
              "  </thead>\n",
              "  <tbody>\n",
              "    <tr>\n",
              "      <th>0</th>\n",
              "      <td>01-01-2011</td>\n",
              "    </tr>\n",
              "    <tr>\n",
              "      <th>1</th>\n",
              "      <td>02-01-2011</td>\n",
              "    </tr>\n",
              "    <tr>\n",
              "      <th>2</th>\n",
              "      <td>03-01-2011</td>\n",
              "    </tr>\n",
              "    <tr>\n",
              "      <th>3</th>\n",
              "      <td>04-01-2011</td>\n",
              "    </tr>\n",
              "    <tr>\n",
              "      <th>4</th>\n",
              "      <td>05-01-2011</td>\n",
              "    </tr>\n",
              "  </tbody>\n",
              "</table>\n",
              "</div>"
            ],
            "text/plain": [
              "         date\n",
              "0  01-01-2011\n",
              "1  02-01-2011\n",
              "2  03-01-2011\n",
              "3  04-01-2011\n",
              "4  05-01-2011"
            ]
          },
          "metadata": {
            "tags": []
          },
          "execution_count": 504
        }
      ]
    },
    {
      "cell_type": "code",
      "metadata": {
        "id": "npifvwBHVFcl"
      },
      "source": [
        "test['date'] = pd.to_datetime(test['date'])"
      ],
      "execution_count": null,
      "outputs": []
    },
    {
      "cell_type": "code",
      "metadata": {
        "id": "50vJ14YrHQgD"
      },
      "source": [
        "# Creating Features in train from due Date\n",
        "\n",
        "test['date_month'] = test.date.dt.month\n",
        "test['date_quarter'] = test.date.dt.quarter\n",
        "test['date_year'] = test.date.dt.year\n",
        "test['date_day'] = test.date.dt.day\n"
      ],
      "execution_count": null,
      "outputs": []
    },
    {
      "cell_type": "code",
      "metadata": {
        "id": "vCp48JXaQdWe"
      },
      "source": [
        "# Dropping date time columns\n",
        "\n",
        "test.drop([\"date\"], axis  = 1, inplace = True)\n"
      ],
      "execution_count": null,
      "outputs": []
    },
    {
      "cell_type": "code",
      "metadata": {
        "id": "MKG2zK_EVHkN"
      },
      "source": [
        "# Artificial Neural Network\n",
        "import tensorflow as tf\n",
        "from tensorflow.keras.callbacks import ModelCheckpoint,EarlyStopping\n",
        "ann = tf.keras.models.Sequential()\n",
        "\n",
        "ann.add(tf.keras.layers.Dense(units=30, activation='relu'))\n",
        "ann.add(tf.keras.layers.Dense(units=25, activation='relu'))\n",
        "ann.add(tf.keras.layers.Dense(units=20, activation='relu'))\n",
        "ann.add(tf.keras.layers.Dense(units=16, activation='relu'))\n",
        "ann.add(tf.keras.layers.Dense(units=12, activation='relu'))\n",
        "ann.add(tf.keras.layers.Dense(units=10, activation='relu'))\n",
        "ann.add(tf.keras.layers.Dense(units=8, activation='relu'))\n",
        "ann.add(tf.keras.layers.Dense(units=6, activation='relu'))\n",
        "ann.add(tf.keras.layers.Dense(units=5, activation='relu'))\n",
        "ann.add(tf.keras.layers.Dense(units=1))\n",
        "\n",
        "ann.compile(optimizer = 'adam', loss = 'mean_squared_error')\n",
        "#earlystop = EarlyStopping(monitor= \"loss\")\n",
        "ann.fit(X_train, y_train, batch_size = 16, epochs = 2000)\n",
        "#, callbacks = earlystop)\n"
      ],
      "execution_count": null,
      "outputs": []
    },
    {
      "cell_type": "code",
      "metadata": {
        "id": "1gBfyKJSnKMr",
        "colab": {
          "base_uri": "https://localhost:8080/"
        },
        "outputId": "bbc14465-5099-4459-eafc-cd398697718e"
      },
      "source": [
        "predict = ann.predict(X_train)\n",
        "MSE = mean_squared_error(y_train, predict)\n",
        "RMSE = np.sqrt(MSE)\n",
        "R2_SCORE = r2_score(y_train, predict)\n",
        "print(MSE, '\\n',RMSE, '\\n' ,R2_SCORE, '\\n')"
      ],
      "execution_count": null,
      "outputs": [
        {
          "output_type": "stream",
          "text": [
            "5.7240035526436595 \n",
            " 2.3924889869430244 \n",
            " 0.9079621531192894 \n",
            "\n"
          ],
          "name": "stdout"
        }
      ]
    },
    {
      "cell_type": "code",
      "metadata": {
        "id": "0t4bnTGqn3i0",
        "colab": {
          "base_uri": "https://localhost:8080/"
        },
        "outputId": "f7c4ad53-64a6-4fa7-8aad-3db41691f335"
      },
      "source": [
        "predict = ann.predict(X_test)\n",
        "MSE = mean_squared_error(y_test, predict)\n",
        "RMSE = np.sqrt(MSE)\n",
        "R2_SCORE = r2_score(y_test, predict)\n",
        "print(MSE, '\\n',RMSE, '\\n' ,R2_SCORE, '\\n')"
      ],
      "execution_count": null,
      "outputs": [
        {
          "output_type": "stream",
          "text": [
            "5.213696420801787 \n",
            " 2.283352014211078 \n",
            " 0.9119982594317155 \n",
            "\n"
          ],
          "name": "stdout"
        }
      ]
    },
    {
      "cell_type": "code",
      "metadata": {
        "colab": {
          "base_uri": "https://localhost:8080/",
          "height": 202
        },
        "id": "kTEVuTCVQPgT",
        "outputId": "d5572242-89e2-4c36-fd0b-03c810f88a97"
      },
      "source": [
        "test.head()"
      ],
      "execution_count": null,
      "outputs": [
        {
          "output_type": "execute_result",
          "data": {
            "text/html": [
              "<div>\n",
              "<style scoped>\n",
              "    .dataframe tbody tr th:only-of-type {\n",
              "        vertical-align: middle;\n",
              "    }\n",
              "\n",
              "    .dataframe tbody tr th {\n",
              "        vertical-align: top;\n",
              "    }\n",
              "\n",
              "    .dataframe thead th {\n",
              "        text-align: right;\n",
              "    }\n",
              "</style>\n",
              "<table border=\"1\" class=\"dataframe\">\n",
              "  <thead>\n",
              "    <tr style=\"text-align: right;\">\n",
              "      <th></th>\n",
              "      <th>date_month</th>\n",
              "      <th>date_quarter</th>\n",
              "      <th>date_year</th>\n",
              "      <th>date_day</th>\n",
              "    </tr>\n",
              "  </thead>\n",
              "  <tbody>\n",
              "    <tr>\n",
              "      <th>0</th>\n",
              "      <td>1</td>\n",
              "      <td>1</td>\n",
              "      <td>2011</td>\n",
              "      <td>1</td>\n",
              "    </tr>\n",
              "    <tr>\n",
              "      <th>1</th>\n",
              "      <td>2</td>\n",
              "      <td>1</td>\n",
              "      <td>2011</td>\n",
              "      <td>1</td>\n",
              "    </tr>\n",
              "    <tr>\n",
              "      <th>2</th>\n",
              "      <td>3</td>\n",
              "      <td>1</td>\n",
              "      <td>2011</td>\n",
              "      <td>1</td>\n",
              "    </tr>\n",
              "    <tr>\n",
              "      <th>3</th>\n",
              "      <td>4</td>\n",
              "      <td>2</td>\n",
              "      <td>2011</td>\n",
              "      <td>1</td>\n",
              "    </tr>\n",
              "    <tr>\n",
              "      <th>4</th>\n",
              "      <td>5</td>\n",
              "      <td>2</td>\n",
              "      <td>2011</td>\n",
              "      <td>1</td>\n",
              "    </tr>\n",
              "  </tbody>\n",
              "</table>\n",
              "</div>"
            ],
            "text/plain": [
              "   date_month  date_quarter  date_year  date_day\n",
              "0           1             1       2011         1\n",
              "1           2             1       2011         1\n",
              "2           3             1       2011         1\n",
              "3           4             2       2011         1\n",
              "4           5             2       2011         1"
            ]
          },
          "metadata": {
            "tags": []
          },
          "execution_count": 508
        }
      ]
    },
    {
      "cell_type": "code",
      "metadata": {
        "id": "uI_N6rRRkycu"
      },
      "source": [
        "y_pred = ann.predict(test)\n",
        "#pred1 = pd.DataFrame()\n"
      ],
      "execution_count": null,
      "outputs": []
    },
    {
      "cell_type": "code",
      "metadata": {
        "id": "MwASHSMWmQqF"
      },
      "source": [
        "#pred1[\"prediction\"] = pd.Series(y_pred)\n",
        "#pred1.head()"
      ],
      "execution_count": null,
      "outputs": []
    },
    {
      "cell_type": "code",
      "metadata": {
        "id": "GxhnPDlllg-0"
      },
      "source": [
        "pd.DataFrame(y_pred).to_csv('ANN_0.05.csv', index=False)"
      ],
      "execution_count": null,
      "outputs": []
    },
    {
      "cell_type": "code",
      "metadata": {
        "id": "_tukjGT5nYCL"
      },
      "source": [
        ""
      ],
      "execution_count": null,
      "outputs": []
    }
  ]
}