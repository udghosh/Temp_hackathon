{
  "nbformat": 4,
  "nbformat_minor": 0,
  "metadata": {
    "kernelspec": {
      "display_name": "Python 3",
      "language": "python",
      "name": "python3"
    },
    "language_info": {
      "codemirror_mode": {
        "name": "ipython",
        "version": 3
      },
      "file_extension": ".py",
      "mimetype": "text/x-python",
      "name": "python",
      "nbconvert_exporter": "python",
      "pygments_lexer": "ipython3",
      "version": "3.7.6"
    },
    "colab": {
      "name": "Temp_Submission 1.ipynb",
      "provenance": [],
      "include_colab_link": true
    }
  },
  "cells": [
    {
      "cell_type": "markdown",
      "metadata": {
        "id": "view-in-github",
        "colab_type": "text"
      },
      "source": [
        "<a href=\"https://colab.research.google.com/github/udghosh/Temp_hackathon/blob/main/Temp_Submission_1.ipynb\" target=\"_parent\"><img src=\"https://colab.research.google.com/assets/colab-badge.svg\" alt=\"Open In Colab\"/></a>"
      ]
    },
    {
      "cell_type": "code",
      "metadata": {
        "id": "NXWKexcvoGnQ"
      },
      "source": [
        "import pandas as pd\n",
        "import numpy as np\n",
        "import datetime as dt\n",
        "import seaborn as sns\n",
        "import matplotlib.pyplot as plt\n",
        "%matplotlib inline \n",
        "\n",
        "from sklearn.model_selection import train_test_split\n",
        "from sklearn.ensemble import RandomForestRegressor\n",
        "from sklearn.metrics import mean_squared_error\n"
      ],
      "execution_count": null,
      "outputs": []
    },
    {
      "cell_type": "code",
      "metadata": {
        "id": "d_VED2z6oGnT",
        "outputId": "a315d28f-a054-446a-93b6-0fc8ca437520"
      },
      "source": [
        "data = pd.read_csv('train.csv')\n",
        "data = pd.DataFrame(data)\n",
        "data.head()"
      ],
      "execution_count": null,
      "outputs": [
        {
          "output_type": "execute_result",
          "data": {
            "text/html": [
              "<div>\n",
              "<style scoped>\n",
              "    .dataframe tbody tr th:only-of-type {\n",
              "        vertical-align: middle;\n",
              "    }\n",
              "\n",
              "    .dataframe tbody tr th {\n",
              "        vertical-align: top;\n",
              "    }\n",
              "\n",
              "    .dataframe thead th {\n",
              "        text-align: right;\n",
              "    }\n",
              "</style>\n",
              "<table border=\"1\" class=\"dataframe\">\n",
              "  <thead>\n",
              "    <tr style=\"text-align: right;\">\n",
              "      <th></th>\n",
              "      <th>date</th>\n",
              "      <th>temp</th>\n",
              "    </tr>\n",
              "  </thead>\n",
              "  <tbody>\n",
              "    <tr>\n",
              "      <th>0</th>\n",
              "      <td>01-01-1980</td>\n",
              "      <td>4.16</td>\n",
              "    </tr>\n",
              "    <tr>\n",
              "      <th>1</th>\n",
              "      <td>02-01-1980</td>\n",
              "      <td>4.06</td>\n",
              "    </tr>\n",
              "    <tr>\n",
              "      <th>2</th>\n",
              "      <td>03-01-1980</td>\n",
              "      <td>7.12</td>\n",
              "    </tr>\n",
              "    <tr>\n",
              "      <th>3</th>\n",
              "      <td>04-01-1980</td>\n",
              "      <td>9.23</td>\n",
              "    </tr>\n",
              "    <tr>\n",
              "      <th>4</th>\n",
              "      <td>05-01-1980</td>\n",
              "      <td>3.20</td>\n",
              "    </tr>\n",
              "  </tbody>\n",
              "</table>\n",
              "</div>"
            ],
            "text/plain": [
              "         date  temp\n",
              "0  01-01-1980  4.16\n",
              "1  02-01-1980  4.06\n",
              "2  03-01-1980  7.12\n",
              "3  04-01-1980  9.23\n",
              "4  05-01-1980  3.20"
            ]
          },
          "metadata": {
            "tags": []
          },
          "execution_count": 2
        }
      ]
    },
    {
      "cell_type": "code",
      "metadata": {
        "id": "QqCSxFjioGnU"
      },
      "source": [
        "data['date'] = pd.to_datetime(data['date'])\n",
        "\n",
        "data['year'] = data['date'].dt.year\n",
        "data['month'] = data['date'].dt.month\n",
        "data['day'] = data['date'].dt.day\n",
        "data['week'] = data['date'].dt.week\n",
        "data['which_day'] = data['date'].dt.dayofweek\n",
        "data['quarter'] = data['date'].dt.quarter"
      ],
      "execution_count": null,
      "outputs": []
    },
    {
      "cell_type": "code",
      "metadata": {
        "id": "rqwAGdm5oGnU",
        "outputId": "cc139d7f-a3ab-4529-c552-43dc12004c50"
      },
      "source": [
        "data.head()"
      ],
      "execution_count": null,
      "outputs": [
        {
          "output_type": "execute_result",
          "data": {
            "text/html": [
              "<div>\n",
              "<style scoped>\n",
              "    .dataframe tbody tr th:only-of-type {\n",
              "        vertical-align: middle;\n",
              "    }\n",
              "\n",
              "    .dataframe tbody tr th {\n",
              "        vertical-align: top;\n",
              "    }\n",
              "\n",
              "    .dataframe thead th {\n",
              "        text-align: right;\n",
              "    }\n",
              "</style>\n",
              "<table border=\"1\" class=\"dataframe\">\n",
              "  <thead>\n",
              "    <tr style=\"text-align: right;\">\n",
              "      <th></th>\n",
              "      <th>date</th>\n",
              "      <th>temp</th>\n",
              "      <th>year</th>\n",
              "      <th>month</th>\n",
              "      <th>day</th>\n",
              "      <th>week</th>\n",
              "      <th>which_day</th>\n",
              "      <th>quarter</th>\n",
              "    </tr>\n",
              "  </thead>\n",
              "  <tbody>\n",
              "    <tr>\n",
              "      <th>0</th>\n",
              "      <td>1980-01-01</td>\n",
              "      <td>4.16</td>\n",
              "      <td>1980</td>\n",
              "      <td>1</td>\n",
              "      <td>1</td>\n",
              "      <td>1</td>\n",
              "      <td>1</td>\n",
              "      <td>1</td>\n",
              "    </tr>\n",
              "    <tr>\n",
              "      <th>1</th>\n",
              "      <td>1980-02-01</td>\n",
              "      <td>4.06</td>\n",
              "      <td>1980</td>\n",
              "      <td>2</td>\n",
              "      <td>1</td>\n",
              "      <td>5</td>\n",
              "      <td>4</td>\n",
              "      <td>1</td>\n",
              "    </tr>\n",
              "    <tr>\n",
              "      <th>2</th>\n",
              "      <td>1980-03-01</td>\n",
              "      <td>7.12</td>\n",
              "      <td>1980</td>\n",
              "      <td>3</td>\n",
              "      <td>1</td>\n",
              "      <td>9</td>\n",
              "      <td>5</td>\n",
              "      <td>1</td>\n",
              "    </tr>\n",
              "    <tr>\n",
              "      <th>3</th>\n",
              "      <td>1980-04-01</td>\n",
              "      <td>9.23</td>\n",
              "      <td>1980</td>\n",
              "      <td>4</td>\n",
              "      <td>1</td>\n",
              "      <td>14</td>\n",
              "      <td>1</td>\n",
              "      <td>2</td>\n",
              "    </tr>\n",
              "    <tr>\n",
              "      <th>4</th>\n",
              "      <td>1980-05-01</td>\n",
              "      <td>3.20</td>\n",
              "      <td>1980</td>\n",
              "      <td>5</td>\n",
              "      <td>1</td>\n",
              "      <td>18</td>\n",
              "      <td>3</td>\n",
              "      <td>2</td>\n",
              "    </tr>\n",
              "  </tbody>\n",
              "</table>\n",
              "</div>"
            ],
            "text/plain": [
              "        date  temp  year  month  day  week  which_day  quarter\n",
              "0 1980-01-01  4.16  1980      1    1     1          1        1\n",
              "1 1980-02-01  4.06  1980      2    1     5          4        1\n",
              "2 1980-03-01  7.12  1980      3    1     9          5        1\n",
              "3 1980-04-01  9.23  1980      4    1    14          1        2\n",
              "4 1980-05-01  3.20  1980      5    1    18          3        2"
            ]
          },
          "metadata": {
            "tags": []
          },
          "execution_count": 30
        }
      ]
    },
    {
      "cell_type": "code",
      "metadata": {
        "id": "swF5PJZmoGnV",
        "outputId": "8d3d25a6-4208-47f7-af99-5b59bcc61ffa"
      },
      "source": [
        "data.groupby('year')['temp'].mean()"
      ],
      "execution_count": null,
      "outputs": [
        {
          "output_type": "execute_result",
          "data": {
            "text/plain": [
              "year\n",
              "1980    14.685792\n",
              "1981    14.380466\n",
              "1982    15.323151\n",
              "1983    15.024575\n",
              "1984    14.168197\n",
              "1985    15.139260\n",
              "1986    14.543096\n",
              "1987    15.545890\n",
              "1988    14.870902\n",
              "1989    15.737918\n",
              "1990    16.450274\n",
              "1991    15.836630\n",
              "1992    15.509262\n",
              "1993    15.028082\n",
              "1994    16.151753\n",
              "1995    15.743726\n",
              "1996    15.074098\n",
              "1997    15.866932\n",
              "1998    16.076767\n",
              "1999    16.329151\n",
              "2000    15.893251\n",
              "2001    15.709370\n",
              "2002    15.987068\n",
              "2003    15.425123\n",
              "2004    16.707869\n",
              "2005    15.554986\n",
              "2006    15.784192\n",
              "2007    16.070301\n",
              "2008    15.914126\n",
              "2009    16.009260\n",
              "2010    16.234384\n",
              "Name: temp, dtype: float64"
            ]
          },
          "metadata": {
            "tags": []
          },
          "execution_count": 31
        }
      ]
    },
    {
      "cell_type": "code",
      "metadata": {
        "id": "Jir9-F_aoGnV",
        "outputId": "98f96d67-446d-4d57-8c22-dcfb15efd2ac"
      },
      "source": [
        "data.groupby('quarter')['temp'].mean()"
      ],
      "execution_count": null,
      "outputs": [
        {
          "output_type": "execute_result",
          "data": {
            "text/plain": [
              "quarter\n",
              "1    10.264371\n",
              "2    17.492347\n",
              "3    21.257398\n",
              "4    13.199260\n",
              "Name: temp, dtype: float64"
            ]
          },
          "metadata": {
            "tags": []
          },
          "execution_count": 33
        }
      ]
    },
    {
      "cell_type": "code",
      "metadata": {
        "id": "TxIUCmtMoGnV",
        "outputId": "f639aeb0-dca4-4e17-e9da-bfa2314042d3"
      },
      "source": [
        "data.groupby('month')['temp'].mean()"
      ],
      "execution_count": null,
      "outputs": [
        {
          "output_type": "execute_result",
          "data": {
            "text/plain": [
              "month\n",
              "1      8.905016\n",
              "2      9.935354\n",
              "3     11.923642\n",
              "4     15.267731\n",
              "5     17.630000\n",
              "6     19.574720\n",
              "7     21.925369\n",
              "8     22.311811\n",
              "9     19.477602\n",
              "10    16.330676\n",
              "11    13.062613\n",
              "12    10.200083\n",
              "Name: temp, dtype: float64"
            ]
          },
          "metadata": {
            "tags": []
          },
          "execution_count": 5
        }
      ]
    },
    {
      "cell_type": "code",
      "metadata": {
        "id": "BnmOXCVcoGnW",
        "outputId": "247c5287-83a3-4341-a461-5ffe4a0fb07c"
      },
      "source": [
        "holder1 = data.groupby('month')['temp'].max()\n",
        "holder2 = data.groupby('month')['temp'].min()\n",
        "print(\"max:\", holder1, \"\\nmin:\", holder2)"
      ],
      "execution_count": null,
      "outputs": [
        {
          "output_type": "stream",
          "text": [
            "max: month\n",
            "1     30.21\n",
            "2     31.51\n",
            "3     31.64\n",
            "4     31.17\n",
            "5     29.67\n",
            "6     30.72\n",
            "7     32.39\n",
            "8     31.73\n",
            "9     30.66\n",
            "10    29.75\n",
            "11    29.56\n",
            "12    29.18\n",
            "Name: temp, dtype: float64 \n",
            "min: month\n",
            "1    -2.05\n",
            "2    -2.42\n",
            "3    -1.80\n",
            "4    -3.15\n",
            "5    -1.68\n",
            "6    -2.75\n",
            "7    -5.11\n",
            "8    -3.56\n",
            "9    -2.33\n",
            "10   -0.99\n",
            "11    1.40\n",
            "12    0.50\n",
            "Name: temp, dtype: float64\n"
          ],
          "name": "stdout"
        }
      ]
    },
    {
      "cell_type": "code",
      "metadata": {
        "id": "mdIXh30joGnW",
        "outputId": "cf164094-7089-4d4c-8236-670cf4c53221"
      },
      "source": [
        "plt.figure(figsize=(8,8))\n",
        "sns.heatmap(data.corr(),annot=True,cmap='viridis',linewidths=.5)"
      ],
      "execution_count": null,
      "outputs": [
        {
          "output_type": "execute_result",
          "data": {
            "text/plain": [
              "<matplotlib.axes._subplots.AxesSubplot at 0x2bae841abc8>"
            ]
          },
          "metadata": {
            "tags": []
          },
          "execution_count": 7
        },
        {
          "output_type": "display_data",
          "data": {
            "image/png": "[encoded data removed]",
            "text/plain": [
              "<Figure size 576x576 with 2 Axes>"
            ]
          },
          "metadata": {
            "tags": [],
            "needs_background": "light"
          }
        }
      ]
    },
    {
      "cell_type": "code",
      "metadata": {
        "id": "0EYCku4hoGnX"
      },
      "source": [
        "final_data = data.copy()"
      ],
      "execution_count": null,
      "outputs": []
    },
    {
      "cell_type": "code",
      "metadata": {
        "id": "tZBiUKUtoGnX"
      },
      "source": [
        "final_data1 = final_data.drop(['week', 'which_day'], axis = 1)"
      ],
      "execution_count": null,
      "outputs": []
    },
    {
      "cell_type": "code",
      "metadata": {
        "id": "HjwfSowgoGnX"
      },
      "source": [
        "final_data2 = final_data.drop(['week'], axis = 1)"
      ],
      "execution_count": null,
      "outputs": []
    },
    {
      "cell_type": "code",
      "metadata": {
        "id": "W5t4iY5DoGnY"
      },
      "source": [
        "y = final_data['temp']\n",
        "x_final2 = final_data1.drop(['temp', 'date'], axis = 1)\n",
        "\n",
        "x_train ,x_test, Y_train, Y_test = train_test_split(x_final2, y, test_size = 0.2, random_state=0)"
      ],
      "execution_count": null,
      "outputs": []
    },
    {
      "cell_type": "code",
      "metadata": {
        "id": "HVWldbC6oGnY",
        "outputId": "8525a4be-8d0d-4829-9f76-33fe091fa87f"
      },
      "source": [
        "y = final_data['temp']\n",
        "x_final22 = final_data2.drop(['temp', 'date'], axis = 1)\n",
        "\n",
        "X_train ,X_test, y_train, y_test = train_test_split(x_final22, y, test_size = 0.2, random_state=0)\n",
        "\n",
        "\n",
        "random_model1 = RandomForestRegressor(n_estimators=500) #max_depth=35)\n",
        "\n",
        "#Fit\n",
        "random_model1.fit(X_train, y_train)\n",
        "\n",
        "y_pred1 = random_model1.predict(X_test)\n",
        "\n",
        "#Checking the accuracy\n",
        "random_model_accuracy1 = round(random_model1.score(X_train, y_train)*100,2)\n",
        "print(round(random_model_accuracy1,2),'%')"
      ],
      "execution_count": null,
      "outputs": [
        {
          "output_type": "stream",
          "text": [
            "99.06 %\n"
          ],
          "name": "stdout"
        }
      ]
    },
    {
      "cell_type": "code",
      "metadata": {
        "id": "blnihkLJoGnY",
        "outputId": "4883cf0a-dcd1-4846-a5fc-fb53b9433a5a"
      },
      "source": [
        "random_model_accuracy1 = round(random_model1.score(X_test, y_test)*100,2)\n",
        "print(round(random_model_accuracy1,2),'%')"
      ],
      "execution_count": null,
      "outputs": [
        {
          "output_type": "stream",
          "text": [
            "92.68 %\n"
          ],
          "name": "stdout"
        }
      ]
    },
    {
      "cell_type": "code",
      "metadata": {
        "id": "rVZdpJWXoGnY",
        "outputId": "59601a8d-a39b-4051-9b45-846dea8b1e82"
      },
      "source": [
        "mse = mean_squared_error(Y_test, y_pred1)\n",
        "rmse = np.sqrt(mse)\n",
        "print(rmse)"
      ],
      "execution_count": null,
      "outputs": [
        {
          "output_type": "stream",
          "text": [
            "2.1184728761636022\n"
          ],
          "name": "stdout"
        }
      ]
    },
    {
      "cell_type": "code",
      "metadata": {
        "id": "i1lRyFTloGnZ",
        "outputId": "5f03fb0e-868f-4168-dc0e-651958ce31ca"
      },
      "source": [
        "random_model1 = RandomForestRegressor(n_estimators=500)\n",
        "#Fit\n",
        "random_model1.fit(x_train, Y_train)\n",
        "\n",
        "y_pred1 = random_model1.predict(x_test)\n",
        "\n",
        "#Checking the accuracy\n",
        "random_model_accuracy1 = round(random_model1.score(x_train, Y_train)*100,2)\n",
        "print(round(random_model_accuracy1,2),'%')"
      ],
      "execution_count": null,
      "outputs": [
        {
          "output_type": "stream",
          "text": [
            "99.18 %\n"
          ],
          "name": "stdout"
        }
      ]
    },
    {
      "cell_type": "code",
      "metadata": {
        "id": "58mA_SCcoGnZ",
        "outputId": "fe16c28b-943f-4efd-c96b-e61993b3f231"
      },
      "source": [
        "random_model_accuracy1 = round(random_model1.score(x_test, Y_test)*100,2)\n",
        "print(round(random_model_accuracy1,2),'%')"
      ],
      "execution_count": null,
      "outputs": [
        {
          "output_type": "stream",
          "text": [
            "93.44 %\n"
          ],
          "name": "stdout"
        }
      ]
    },
    {
      "cell_type": "code",
      "metadata": {
        "id": "u9sDFHZ1oGnZ",
        "outputId": "2f3c1a10-0510-40a2-8e09-cb42a0dfa2ca"
      },
      "source": [
        "mse = mean_squared_error(Y_test, y_pred1)\n",
        "rmse = np.sqrt(mse)\n",
        "print(rmse)"
      ],
      "execution_count": null,
      "outputs": [
        {
          "output_type": "stream",
          "text": [
            "2.0055892544007974\n"
          ],
          "name": "stdout"
        }
      ]
    },
    {
      "cell_type": "markdown",
      "metadata": {
        "id": "7vZ5l9f8oGna"
      },
      "source": [
        "## Creating the prediction csv"
      ]
    },
    {
      "cell_type": "code",
      "metadata": {
        "id": "tBRmhOpEoGna"
      },
      "source": [
        "test_data = pd.read_csv('test.csv')\n",
        "test_data = pd.DataFrame(test_data)\n",
        "test_data.head(1)"
      ],
      "execution_count": null,
      "outputs": []
    },
    {
      "cell_type": "code",
      "metadata": {
        "id": "6EnhL35joGna"
      },
      "source": [
        "test_data['date'] = pd.to_datetime(test_data['date'])"
      ],
      "execution_count": null,
      "outputs": []
    },
    {
      "cell_type": "code",
      "metadata": {
        "id": "FmXkLqcZoGna"
      },
      "source": [
        "test_data['year'] = test_data['date'].dt.year\n",
        "test_data['month'] = test_data['date'].dt.month\n",
        "test_data['day'] = test_data['date'].dt.day"
      ],
      "execution_count": null,
      "outputs": []
    },
    {
      "cell_type": "code",
      "metadata": {
        "id": "kr-7yC-XoGnb"
      },
      "source": [
        "test_data1 = test_data.drop(['date'], axis = 1)\n",
        "\n",
        "y_pred = random_model1.predict(test_data1)\n",
        "\n",
        "y_pred"
      ],
      "execution_count": null,
      "outputs": []
    },
    {
      "cell_type": "code",
      "metadata": {
        "id": "KvtFeSI_oGnb"
      },
      "source": [
        "prediction = pd.Series(y_pred)\n",
        "prediction.head()"
      ],
      "execution_count": null,
      "outputs": []
    }
  ]
}